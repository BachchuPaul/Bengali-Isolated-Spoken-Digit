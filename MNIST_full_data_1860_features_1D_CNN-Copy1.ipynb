{
 "cells": [
  {
   "cell_type": "code",
   "execution_count": 1,
   "metadata": {},
   "outputs": [],
   "source": [
    "#First, import all the necessary libraries into our notebook. LibROSA and SciPy are the Python libraries used for \n",
    "# processing audio signals.\n",
    "import os\n",
    "import librosa   #for audio processing\n",
    "import IPython.display as ipd\n",
    "import matplotlib.pyplot as plt\n",
    "import numpy as np\n",
    "from scipy.io import wavfile #for audio processing\n",
    "import warnings\n",
    "warnings.filterwarnings(\"ignore\")\n",
    "import numpy as np\n",
    "import matplotlib.pyplot as plt\n",
    "import pandas as pd"
   ]
  },
  {
   "cell_type": "code",
   "execution_count": 2,
   "metadata": {},
   "outputs": [
    {
     "data": {
      "text/html": [
       "<div>\n",
       "<style scoped>\n",
       "    .dataframe tbody tr th:only-of-type {\n",
       "        vertical-align: middle;\n",
       "    }\n",
       "\n",
       "    .dataframe tbody tr th {\n",
       "        vertical-align: top;\n",
       "    }\n",
       "\n",
       "    .dataframe thead th {\n",
       "        text-align: right;\n",
       "    }\n",
       "</style>\n",
       "<table border=\"1\" class=\"dataframe\">\n",
       "  <thead>\n",
       "    <tr style=\"text-align: right;\">\n",
       "      <th></th>\n",
       "      <th>1</th>\n",
       "      <th>2</th>\n",
       "      <th>3</th>\n",
       "      <th>4</th>\n",
       "      <th>5</th>\n",
       "      <th>6</th>\n",
       "      <th>7</th>\n",
       "      <th>8</th>\n",
       "      <th>9</th>\n",
       "      <th>10</th>\n",
       "      <th>...</th>\n",
       "      <th>1852</th>\n",
       "      <th>1853</th>\n",
       "      <th>1854</th>\n",
       "      <th>1855</th>\n",
       "      <th>1856</th>\n",
       "      <th>1857</th>\n",
       "      <th>1858</th>\n",
       "      <th>1859</th>\n",
       "      <th>1860</th>\n",
       "      <th>Label</th>\n",
       "    </tr>\n",
       "  </thead>\n",
       "  <tbody>\n",
       "    <tr>\n",
       "      <th>0</th>\n",
       "      <td>-1.18590</td>\n",
       "      <td>-1.10830</td>\n",
       "      <td>-1.11820</td>\n",
       "      <td>-1.04960</td>\n",
       "      <td>-0.93815</td>\n",
       "      <td>-0.91968</td>\n",
       "      <td>-0.87015</td>\n",
       "      <td>-0.85862</td>\n",
       "      <td>-1.03370</td>\n",
       "      <td>-0.86543</td>\n",
       "      <td>...</td>\n",
       "      <td>1.0733</td>\n",
       "      <td>1.0733</td>\n",
       "      <td>1.0733</td>\n",
       "      <td>1.0733</td>\n",
       "      <td>1.0733</td>\n",
       "      <td>1.0733</td>\n",
       "      <td>1.0733</td>\n",
       "      <td>1.0733</td>\n",
       "      <td>1.0733</td>\n",
       "      <td>5</td>\n",
       "    </tr>\n",
       "    <tr>\n",
       "      <th>1</th>\n",
       "      <td>-0.93631</td>\n",
       "      <td>-0.93671</td>\n",
       "      <td>-0.93733</td>\n",
       "      <td>-0.93070</td>\n",
       "      <td>-0.93799</td>\n",
       "      <td>-0.71342</td>\n",
       "      <td>-0.85749</td>\n",
       "      <td>-0.74200</td>\n",
       "      <td>-0.91414</td>\n",
       "      <td>-0.92814</td>\n",
       "      <td>...</td>\n",
       "      <td>1.3426</td>\n",
       "      <td>1.3426</td>\n",
       "      <td>1.3426</td>\n",
       "      <td>1.3426</td>\n",
       "      <td>1.3426</td>\n",
       "      <td>1.3426</td>\n",
       "      <td>1.3426</td>\n",
       "      <td>1.3426</td>\n",
       "      <td>1.3426</td>\n",
       "      <td>3</td>\n",
       "    </tr>\n",
       "    <tr>\n",
       "      <th>2</th>\n",
       "      <td>-1.13300</td>\n",
       "      <td>-1.05840</td>\n",
       "      <td>-0.98421</td>\n",
       "      <td>-0.92401</td>\n",
       "      <td>-0.91099</td>\n",
       "      <td>-0.74576</td>\n",
       "      <td>-0.84772</td>\n",
       "      <td>-0.91078</td>\n",
       "      <td>-0.95023</td>\n",
       "      <td>-0.72987</td>\n",
       "      <td>...</td>\n",
       "      <td>1.1248</td>\n",
       "      <td>1.1248</td>\n",
       "      <td>1.1248</td>\n",
       "      <td>1.1248</td>\n",
       "      <td>1.1248</td>\n",
       "      <td>1.1248</td>\n",
       "      <td>1.1248</td>\n",
       "      <td>1.1248</td>\n",
       "      <td>1.1248</td>\n",
       "      <td>5</td>\n",
       "    </tr>\n",
       "    <tr>\n",
       "      <th>3</th>\n",
       "      <td>-0.94675</td>\n",
       "      <td>-0.95208</td>\n",
       "      <td>-0.96140</td>\n",
       "      <td>-0.96423</td>\n",
       "      <td>-0.95421</td>\n",
       "      <td>-0.85394</td>\n",
       "      <td>-0.74343</td>\n",
       "      <td>-0.70551</td>\n",
       "      <td>-0.67064</td>\n",
       "      <td>-0.65352</td>\n",
       "      <td>...</td>\n",
       "      <td>1.4082</td>\n",
       "      <td>1.4082</td>\n",
       "      <td>1.4082</td>\n",
       "      <td>1.4082</td>\n",
       "      <td>1.4082</td>\n",
       "      <td>1.4082</td>\n",
       "      <td>1.4082</td>\n",
       "      <td>1.4082</td>\n",
       "      <td>1.4082</td>\n",
       "      <td>9</td>\n",
       "    </tr>\n",
       "    <tr>\n",
       "      <th>4</th>\n",
       "      <td>-1.03790</td>\n",
       "      <td>-1.04600</td>\n",
       "      <td>-1.04360</td>\n",
       "      <td>-1.04210</td>\n",
       "      <td>-1.01870</td>\n",
       "      <td>-0.66626</td>\n",
       "      <td>-0.71154</td>\n",
       "      <td>-0.90012</td>\n",
       "      <td>-0.87997</td>\n",
       "      <td>-0.76461</td>\n",
       "      <td>...</td>\n",
       "      <td>1.1820</td>\n",
       "      <td>1.1820</td>\n",
       "      <td>1.1820</td>\n",
       "      <td>1.1820</td>\n",
       "      <td>1.1820</td>\n",
       "      <td>1.1820</td>\n",
       "      <td>1.1820</td>\n",
       "      <td>1.1820</td>\n",
       "      <td>1.1820</td>\n",
       "      <td>3</td>\n",
       "    </tr>\n",
       "  </tbody>\n",
       "</table>\n",
       "<p>5 rows × 1861 columns</p>\n",
       "</div>"
      ],
      "text/plain": [
       "         1        2        3        4        5        6        7        8  \\\n",
       "0 -1.18590 -1.10830 -1.11820 -1.04960 -0.93815 -0.91968 -0.87015 -0.85862   \n",
       "1 -0.93631 -0.93671 -0.93733 -0.93070 -0.93799 -0.71342 -0.85749 -0.74200   \n",
       "2 -1.13300 -1.05840 -0.98421 -0.92401 -0.91099 -0.74576 -0.84772 -0.91078   \n",
       "3 -0.94675 -0.95208 -0.96140 -0.96423 -0.95421 -0.85394 -0.74343 -0.70551   \n",
       "4 -1.03790 -1.04600 -1.04360 -1.04210 -1.01870 -0.66626 -0.71154 -0.90012   \n",
       "\n",
       "         9       10  ...    1852    1853    1854    1855    1856    1857  \\\n",
       "0 -1.03370 -0.86543  ...  1.0733  1.0733  1.0733  1.0733  1.0733  1.0733   \n",
       "1 -0.91414 -0.92814  ...  1.3426  1.3426  1.3426  1.3426  1.3426  1.3426   \n",
       "2 -0.95023 -0.72987  ...  1.1248  1.1248  1.1248  1.1248  1.1248  1.1248   \n",
       "3 -0.67064 -0.65352  ...  1.4082  1.4082  1.4082  1.4082  1.4082  1.4082   \n",
       "4 -0.87997 -0.76461  ...  1.1820  1.1820  1.1820  1.1820  1.1820  1.1820   \n",
       "\n",
       "     1858    1859    1860  Label  \n",
       "0  1.0733  1.0733  1.0733      5  \n",
       "1  1.3426  1.3426  1.3426      3  \n",
       "2  1.1248  1.1248  1.1248      5  \n",
       "3  1.4082  1.4082  1.4082      9  \n",
       "4  1.1820  1.1820  1.1820      3  \n",
       "\n",
       "[5 rows x 1861 columns]"
      ]
     },
     "execution_count": 2,
     "metadata": {},
     "output_type": "execute_result"
    }
   ],
   "source": [
    "dataset = pd.read_csv('XFull_MNIST.csv')\n",
    "dataset.head()\n"
   ]
  },
  {
   "cell_type": "code",
   "execution_count": 3,
   "metadata": {},
   "outputs": [
    {
     "data": {
      "text/plain": [
       "(30000, 1860)"
      ]
     },
     "execution_count": 3,
     "metadata": {},
     "output_type": "execute_result"
    }
   ],
   "source": [
    "X = dataset.iloc[:, 0:1860].values\n",
    "X.shape"
   ]
  },
  {
   "cell_type": "code",
   "execution_count": 4,
   "metadata": {},
   "outputs": [
    {
     "data": {
      "text/plain": [
       "(30000,)"
      ]
     },
     "execution_count": 4,
     "metadata": {},
     "output_type": "execute_result"
    }
   ],
   "source": [
    "y = dataset.iloc[:,1860].values\n",
    "y.shape"
   ]
  },
  {
   "cell_type": "code",
   "execution_count": 5,
   "metadata": {},
   "outputs": [],
   "source": [
    "import statistics\n",
    "import time\n",
    "from sklearn.model_selection import train_test_split\n",
    "#X_train, X_test, y_train, y_test = train_test_split(X, y, test_size=0.20)"
   ]
  },
  {
   "cell_type": "code",
   "execution_count": 6,
   "metadata": {},
   "outputs": [],
   "source": [
    "#Convert the output labels to integer encoded:\n",
    "from sklearn.preprocessing import LabelEncoder\n",
    "le = LabelEncoder()\n",
    "y=le.fit_transform(y)\n",
    "classes= list(le.classes_)"
   ]
  },
  {
   "cell_type": "code",
   "execution_count": 7,
   "metadata": {},
   "outputs": [],
   "source": [
    "#Now, convert the integer encoded labels to a one-hot vector since it is a multi-classification problem:\n",
    "train_audio_path = './MNIST_Numbers'  \n",
    "labels=os.listdir(train_audio_path)\n",
    "from keras.utils import np_utils\n",
    "y=np_utils.to_categorical(y, num_classes=len(labels))"
   ]
  },
  {
   "cell_type": "code",
   "execution_count": 8,
   "metadata": {},
   "outputs": [
    {
     "data": {
      "text/plain": [
       "(30000, 1860, 1)"
      ]
     },
     "execution_count": 8,
     "metadata": {},
     "output_type": "execute_result"
    }
   ],
   "source": [
    "all_wave = np.array(X).reshape(-1,1860,1)\n",
    "all_wave.shape\n",
    "#len(all_wave[0]"
   ]
  },
  {
   "cell_type": "code",
   "execution_count": 9,
   "metadata": {},
   "outputs": [],
   "source": [
    "#Split into train and validation set\n",
    "#Next, we will train the model on 80% of the data and validate on the remaining 20%:\n",
    "import statistics\n",
    "import time\n",
    "from sklearn.model_selection import train_test_split\n",
    "#start_train= time.time()\n",
    "x_tr, x_val, y_tr, y_val = train_test_split(np.array(all_wave),np.array(y),stratify=y,test_size = 0.2,random_state=777,shuffle=True)\n",
    "#end_train = time.time()\n",
    "#print(f\"Train_time: {end_train-start_train}\")"
   ]
  },
  {
   "cell_type": "code",
   "execution_count": 10,
   "metadata": {},
   "outputs": [
    {
     "name": "stdout",
     "output_type": "stream",
     "text": [
      "Model: \"model\"\n",
      "_________________________________________________________________\n",
      " Layer (type)                Output Shape              Param #   \n",
      "=================================================================\n",
      " input_1 (InputLayer)        [(None, 1860, 1)]         0         \n",
      "                                                                 \n",
      " conv1d (Conv1D)             (None, 1846, 8)           128       \n",
      "                                                                 \n",
      " max_pooling1d (MaxPooling1D  (None, 615, 8)           0         \n",
      " )                                                               \n",
      "                                                                 \n",
      " dropout (Dropout)           (None, 615, 8)            0         \n",
      "                                                                 \n",
      " conv1d_1 (Conv1D)           (None, 603, 16)           1680      \n",
      "                                                                 \n",
      " max_pooling1d_1 (MaxPooling  (None, 201, 16)          0         \n",
      " 1D)                                                             \n",
      "                                                                 \n",
      " dropout_1 (Dropout)         (None, 201, 16)           0         \n",
      "                                                                 \n",
      " conv1d_2 (Conv1D)           (None, 191, 32)           5664      \n",
      "                                                                 \n",
      " max_pooling1d_2 (MaxPooling  (None, 63, 32)           0         \n",
      " 1D)                                                             \n",
      "                                                                 \n",
      " dropout_2 (Dropout)         (None, 63, 32)            0         \n",
      "                                                                 \n",
      " conv1d_3 (Conv1D)           (None, 55, 64)            18496     \n",
      "                                                                 \n",
      " max_pooling1d_3 (MaxPooling  (None, 18, 64)           0         \n",
      " 1D)                                                             \n",
      "                                                                 \n",
      " dropout_3 (Dropout)         (None, 18, 64)            0         \n",
      "                                                                 \n",
      " flatten (Flatten)           (None, 1152)              0         \n",
      "                                                                 \n",
      " dense (Dense)               (None, 128)               147584    \n",
      "                                                                 \n",
      " dropout_4 (Dropout)         (None, 128)               0         \n",
      "                                                                 \n",
      " dense_1 (Dense)             (None, 64)                8256      \n",
      "                                                                 \n",
      " dropout_5 (Dropout)         (None, 64)                0         \n",
      "                                                                 \n",
      " dense_2 (Dense)             (None, 10)                650       \n",
      "                                                                 \n",
      "=================================================================\n",
      "Total params: 182,458\n",
      "Trainable params: 182,458\n",
      "Non-trainable params: 0\n",
      "_________________________________________________________________\n"
     ]
    }
   ],
   "source": [
    "#Model Architecture for this problem\n",
    "#We will build the speech-to-text model using conv1d. Conv1d is a convolutional neural network which performs the convolution along only one dimension. \n",
    "# https://www.analyticsvidhya.com/blog/2019/07/learn-build-first-speech-to-text-model-python/\n",
    "from keras.layers import Dense, Dropout, Flatten, Conv1D, Input, MaxPooling1D\n",
    "from keras.models import Model\n",
    "from keras.callbacks import EarlyStopping, ModelCheckpoint\n",
    "from keras import backend as K\n",
    "K.clear_session()\n",
    "\n",
    "inputs = Input(shape=(1860,1))\n",
    "\n",
    "#First Conv1D layer\n",
    "conv = Conv1D(8,15, padding='valid', activation='relu', strides=1)(inputs)\n",
    "conv = MaxPooling1D(3)(conv)\n",
    "conv = Dropout(0.3)(conv)\n",
    "\n",
    "#Second Conv1D layer\n",
    "conv = Conv1D(16, 13, padding='valid', activation='relu', strides=1)(conv)\n",
    "conv = MaxPooling1D(3)(conv)\n",
    "conv = Dropout(0.3)(conv)\n",
    "\n",
    "#Third Conv1D layer\n",
    "conv = Conv1D(32, 11, padding='valid', activation='relu', strides=1)(conv)\n",
    "conv = MaxPooling1D(3)(conv)\n",
    "conv = Dropout(0.3)(conv)\n",
    "\n",
    "#Fourth Conv1D layer\n",
    "conv = Conv1D(64, 9, padding='valid', activation='relu', strides=1)(conv)\n",
    "conv = MaxPooling1D(3)(conv)\n",
    "conv = Dropout(0.3)(conv)\n",
    "\n",
    "#Fifth Conv1D layer\n",
    "#conv = Conv1D(128, 3, padding='valid', activation='relu', strides=1)(conv)\n",
    "#conv = MaxPooling1D(3)(conv)\n",
    "#conv = Dropout(0.3)(conv)\n",
    "#Flatten layer\n",
    "conv = Flatten()(conv)\n",
    "\n",
    "#Dense Layer 1\n",
    "conv = Dense(128, activation='relu')(conv)\n",
    "conv = Dropout(0.3)(conv)\n",
    "\n",
    "#Dense Layer 2\n",
    "conv = Dense(64, activation='relu')(conv)\n",
    "conv = Dropout(0.3)(conv)\n",
    "\n",
    "outputs = Dense(len(labels), activation='softmax')(conv)\n",
    "\n",
    "model = Model(inputs, outputs)\n",
    "model.summary()"
   ]
  },
  {
   "cell_type": "code",
   "execution_count": 11,
   "metadata": {},
   "outputs": [],
   "source": [
    "#Define the loss function to be categorical cross-entropy since it is a multi-classification problem:\n",
    "model.compile(loss='categorical_crossentropy',optimizer='adam',metrics=['accuracy'])"
   ]
  },
  {
   "cell_type": "code",
   "execution_count": 12,
   "metadata": {},
   "outputs": [],
   "source": [
    "#Early stopping and model checkpoints are the callbacks to stop training the neural network at the right time and \n",
    "# to save the best model after every epoch:\n",
    "es = EarlyStopping(monitor='val_loss', mode='min', verbose=1, patience=10, min_delta=0.0001) \n",
    "mc = ModelCheckpoint('best_model.hdf5', monitor='val_acc', verbose=1, save_best_only=True, mode='max')"
   ]
  },
  {
   "cell_type": "code",
   "execution_count": 13,
   "metadata": {},
   "outputs": [
    {
     "name": "stdout",
     "output_type": "stream",
     "text": [
      "Epoch 1/50\n",
      "750/750 [==============================] - ETA: 0s - loss: 1.3201 - accuracy: 0.5177WARNING:tensorflow:Can save best model only with val_acc available, skipping.\n",
      "750/750 [==============================] - 40s 43ms/step - loss: 1.3201 - accuracy: 0.5177 - val_loss: 0.2287 - val_accuracy: 0.9343\n",
      "Epoch 2/50\n",
      "749/750 [============================>.] - ETA: 0s - loss: 0.3537 - accuracy: 0.8880WARNING:tensorflow:Can save best model only with val_acc available, skipping.\n",
      "750/750 [==============================] - 34s 45ms/step - loss: 0.3535 - accuracy: 0.8880 - val_loss: 0.0879 - val_accuracy: 0.9763\n",
      "Epoch 3/50\n",
      "750/750 [==============================] - ETA: 0s - loss: 0.2306 - accuracy: 0.9302WARNING:tensorflow:Can save best model only with val_acc available, skipping.\n",
      "750/750 [==============================] - 36s 48ms/step - loss: 0.2306 - accuracy: 0.9302 - val_loss: 0.0515 - val_accuracy: 0.9862\n",
      "Epoch 4/50\n",
      "749/750 [============================>.] - ETA: 0s - loss: 0.1697 - accuracy: 0.9483WARNING:tensorflow:Can save best model only with val_acc available, skipping.\n",
      "750/750 [==============================] - 33s 43ms/step - loss: 0.1696 - accuracy: 0.9483 - val_loss: 0.0408 - val_accuracy: 0.9907\n",
      "Epoch 5/50\n",
      "750/750 [==============================] - ETA: 0s - loss: 0.1521 - accuracy: 0.9561WARNING:tensorflow:Can save best model only with val_acc available, skipping.\n",
      "750/750 [==============================] - 34s 45ms/step - loss: 0.1521 - accuracy: 0.9561 - val_loss: 0.0332 - val_accuracy: 0.9912\n",
      "Epoch 6/50\n",
      "750/750 [==============================] - ETA: 0s - loss: 0.1307 - accuracy: 0.9607WARNING:tensorflow:Can save best model only with val_acc available, skipping.\n",
      "750/750 [==============================] - 34s 45ms/step - loss: 0.1307 - accuracy: 0.9607 - val_loss: 0.0316 - val_accuracy: 0.9905\n",
      "Epoch 7/50\n",
      "750/750 [==============================] - ETA: 0s - loss: 0.1162 - accuracy: 0.9656WARNING:tensorflow:Can save best model only with val_acc available, skipping.\n",
      "750/750 [==============================] - 32s 43ms/step - loss: 0.1162 - accuracy: 0.9656 - val_loss: 0.0282 - val_accuracy: 0.9925\n",
      "Epoch 8/50\n",
      "750/750 [==============================] - ETA: 0s - loss: 0.1067 - accuracy: 0.9683WARNING:tensorflow:Can save best model only with val_acc available, skipping.\n",
      "750/750 [==============================] - 33s 43ms/step - loss: 0.1067 - accuracy: 0.9683 - val_loss: 0.0236 - val_accuracy: 0.9935\n",
      "Epoch 9/50\n",
      "749/750 [============================>.] - ETA: 0s - loss: 0.0997 - accuracy: 0.9702WARNING:tensorflow:Can save best model only with val_acc available, skipping.\n",
      "750/750 [==============================] - 33s 45ms/step - loss: 0.0996 - accuracy: 0.9702 - val_loss: 0.0193 - val_accuracy: 0.9940\n",
      "Epoch 10/50\n",
      "749/750 [============================>.] - ETA: 0s - loss: 0.0964 - accuracy: 0.9724WARNING:tensorflow:Can save best model only with val_acc available, skipping.\n",
      "750/750 [==============================] - 33s 44ms/step - loss: 0.0963 - accuracy: 0.9724 - val_loss: 0.0183 - val_accuracy: 0.9955\n",
      "Epoch 11/50\n",
      "750/750 [==============================] - ETA: 0s - loss: 0.0825 - accuracy: 0.9758WARNING:tensorflow:Can save best model only with val_acc available, skipping.\n",
      "750/750 [==============================] - 33s 44ms/step - loss: 0.0825 - accuracy: 0.9758 - val_loss: 0.0167 - val_accuracy: 0.9957\n",
      "Epoch 12/50\n",
      "750/750 [==============================] - ETA: 0s - loss: 0.0823 - accuracy: 0.9755WARNING:tensorflow:Can save best model only with val_acc available, skipping.\n",
      "750/750 [==============================] - 33s 44ms/step - loss: 0.0823 - accuracy: 0.9755 - val_loss: 0.0161 - val_accuracy: 0.9955\n",
      "Epoch 13/50\n",
      "750/750 [==============================] - ETA: 0s - loss: 0.0816 - accuracy: 0.9762WARNING:tensorflow:Can save best model only with val_acc available, skipping.\n",
      "750/750 [==============================] - 33s 43ms/step - loss: 0.0816 - accuracy: 0.9762 - val_loss: 0.0177 - val_accuracy: 0.9955\n",
      "Epoch 14/50\n",
      "749/750 [============================>.] - ETA: 0s - loss: 0.0769 - accuracy: 0.9767WARNING:tensorflow:Can save best model only with val_acc available, skipping.\n",
      "750/750 [==============================] - 33s 44ms/step - loss: 0.0769 - accuracy: 0.9768 - val_loss: 0.0173 - val_accuracy: 0.9953\n",
      "Epoch 15/50\n",
      "750/750 [==============================] - ETA: 0s - loss: 0.0741 - accuracy: 0.9786WARNING:tensorflow:Can save best model only with val_acc available, skipping.\n",
      "750/750 [==============================] - 33s 44ms/step - loss: 0.0741 - accuracy: 0.9786 - val_loss: 0.0182 - val_accuracy: 0.9943\n",
      "Epoch 16/50\n",
      "749/750 [============================>.] - ETA: 0s - loss: 0.0801 - accuracy: 0.9767WARNING:tensorflow:Can save best model only with val_acc available, skipping.\n",
      "750/750 [==============================] - 33s 44ms/step - loss: 0.0800 - accuracy: 0.9767 - val_loss: 0.0129 - val_accuracy: 0.9965\n",
      "Epoch 17/50\n",
      "749/750 [============================>.] - ETA: 0s - loss: 0.0690 - accuracy: 0.9801WARNING:tensorflow:Can save best model only with val_acc available, skipping.\n",
      "750/750 [==============================] - 33s 45ms/step - loss: 0.0689 - accuracy: 0.9801 - val_loss: 0.0122 - val_accuracy: 0.9965\n",
      "Epoch 18/50\n",
      "750/750 [==============================] - ETA: 0s - loss: 0.0682 - accuracy: 0.9810WARNING:tensorflow:Can save best model only with val_acc available, skipping.\n",
      "750/750 [==============================] - 32s 43ms/step - loss: 0.0682 - accuracy: 0.9810 - val_loss: 0.0180 - val_accuracy: 0.9955\n",
      "Epoch 19/50\n",
      "749/750 [============================>.] - ETA: 0s - loss: 0.0635 - accuracy: 0.9811WARNING:tensorflow:Can save best model only with val_acc available, skipping.\n",
      "750/750 [==============================] - 32s 43ms/step - loss: 0.0634 - accuracy: 0.9812 - val_loss: 0.0144 - val_accuracy: 0.9960\n",
      "Epoch 20/50\n",
      "750/750 [==============================] - ETA: 0s - loss: 0.0676 - accuracy: 0.9810WARNING:tensorflow:Can save best model only with val_acc available, skipping.\n",
      "750/750 [==============================] - 33s 44ms/step - loss: 0.0676 - accuracy: 0.9810 - val_loss: 0.0122 - val_accuracy: 0.9967\n",
      "Epoch 21/50\n",
      "749/750 [============================>.] - ETA: 0s - loss: 0.0614 - accuracy: 0.9822WARNING:tensorflow:Can save best model only with val_acc available, skipping.\n",
      "750/750 [==============================] - 33s 43ms/step - loss: 0.0614 - accuracy: 0.9822 - val_loss: 0.0164 - val_accuracy: 0.9960\n",
      "Epoch 22/50\n",
      "750/750 [==============================] - ETA: 0s - loss: 0.0616 - accuracy: 0.9813WARNING:tensorflow:Can save best model only with val_acc available, skipping.\n",
      "750/750 [==============================] - 32s 42ms/step - loss: 0.0616 - accuracy: 0.9813 - val_loss: 0.0192 - val_accuracy: 0.9947\n",
      "Epoch 23/50\n",
      "750/750 [==============================] - ETA: 0s - loss: 0.0644 - accuracy: 0.9810WARNING:tensorflow:Can save best model only with val_acc available, skipping.\n",
      "750/750 [==============================] - 35s 46ms/step - loss: 0.0644 - accuracy: 0.9810 - val_loss: 0.0141 - val_accuracy: 0.9958\n",
      "Epoch 24/50\n",
      "750/750 [==============================] - ETA: 0s - loss: 0.0624 - accuracy: 0.9809WARNING:tensorflow:Can save best model only with val_acc available, skipping.\n",
      "750/750 [==============================] - 33s 44ms/step - loss: 0.0624 - accuracy: 0.9809 - val_loss: 0.0130 - val_accuracy: 0.9970\n",
      "Epoch 25/50\n",
      "750/750 [==============================] - ETA: 0s - loss: 0.0597 - accuracy: 0.9830WARNING:tensorflow:Can save best model only with val_acc available, skipping.\n",
      "750/750 [==============================] - 33s 45ms/step - loss: 0.0597 - accuracy: 0.9830 - val_loss: 0.0125 - val_accuracy: 0.9970\n",
      "Epoch 26/50\n",
      "749/750 [============================>.] - ETA: 0s - loss: 0.0552 - accuracy: 0.9835WARNING:tensorflow:Can save best model only with val_acc available, skipping.\n",
      "750/750 [==============================] - 33s 44ms/step - loss: 0.0553 - accuracy: 0.9835 - val_loss: 0.0147 - val_accuracy: 0.9948\n",
      "Epoch 27/50\n",
      "750/750 [==============================] - ETA: 0s - loss: 0.0600 - accuracy: 0.9821WARNING:tensorflow:Can save best model only with val_acc available, skipping.\n",
      "750/750 [==============================] - 33s 45ms/step - loss: 0.0600 - accuracy: 0.9821 - val_loss: 0.0140 - val_accuracy: 0.9962\n"
     ]
    },
    {
     "name": "stdout",
     "output_type": "stream",
     "text": [
      "Epoch 27: early stopping\n",
      "Train_time: 904.322286605835\n"
     ]
    }
   ],
   "source": [
    "# Let us train the model on a batch size of 32 and evaluate the performance on the holdout set:\n",
    "start_train= time.time()\n",
    "history=model.fit(x_tr, y_tr ,epochs=50, callbacks=[es,mc], batch_size=32, validation_data=(x_val,y_val))\n",
    "end_train = time.time()\n",
    "print(f\"Train_time: {end_train-start_train}\")"
   ]
  },
  {
   "cell_type": "code",
   "execution_count": 15,
   "metadata": {},
   "outputs": [
    {
     "name": "stderr",
     "output_type": "stream",
     "text": [
      "WARNING:absl:Found untraced functions such as _jit_compiled_convolution_op, _jit_compiled_convolution_op, _jit_compiled_convolution_op, _jit_compiled_convolution_op while saving (showing 4 of 4). These functions will not be directly callable after loading.\n"
     ]
    },
    {
     "name": "stdout",
     "output_type": "stream",
     "text": [
      "INFO:tensorflow:Assets written to: ram://0ec1d958-a25f-4c8a-a74e-2198b19f334f/assets\n"
     ]
    },
    {
     "name": "stderr",
     "output_type": "stream",
     "text": [
      "INFO:tensorflow:Assets written to: ram://0ec1d958-a25f-4c8a-a74e-2198b19f334f/assets\n"
     ]
    },
    {
     "name": "stdout",
     "output_type": "stream",
     "text": [
      "340.2568359375\n"
     ]
    }
   ],
   "source": [
    "import pickle\n",
    "import sys\n",
    "\n",
    "p = pickle.dumps(model)\n",
    "print(sys.getsizeof(p)/1024) #KB"
   ]
  },
  {
   "cell_type": "code",
   "execution_count": 16,
   "metadata": {},
   "outputs": [],
   "source": [
    "model.save('best_model_mnist_full.hdf5')"
   ]
  },
  {
   "cell_type": "code",
   "execution_count": 17,
   "metadata": {},
   "outputs": [
    {
     "data": {
      "image/png": "[encoded data removed]",
      "text/plain": [
       "<Figure size 432x288 with 1 Axes>"
      ]
     },
     "metadata": {
      "needs_background": "light"
     },
     "output_type": "display_data"
    }
   ],
   "source": [
    "#I’m going to lean on visualization again to understand the performance of the model over a period of time:\n",
    "from matplotlib import pyplot \n",
    "pyplot.plot(history.history['loss'], label='train') \n",
    "pyplot.plot(history.history['val_loss'], label='test') \n",
    "pyplot.legend() \n",
    "pyplot.show()"
   ]
  },
  {
   "cell_type": "code",
   "execution_count": 18,
   "metadata": {},
   "outputs": [],
   "source": [
    "#Loading the best model\n",
    "from keras.models import load_model\n",
    "model=load_model('best_model_mnist_full.hdf5')"
   ]
  },
  {
   "cell_type": "code",
   "execution_count": 37,
   "metadata": {},
   "outputs": [
    {
     "name": "stdout",
     "output_type": "stream",
     "text": [
      "Evaluate on test data\n",
      "750/750 [==============================] - 4s 5ms/step - loss: 0.0140 - accuracy: 0.9962\n",
      "test loss, test acc: [0.014025970362126827, 0.9961666464805603]\n"
     ]
    }
   ],
   "source": [
    "# Evaluate the model on the test data using `evaluate`\n",
    "print(\"Evaluate on test data\")\n",
    "results = model.evaluate(x_val, y_val, batch_size=8)  #saved_model\n",
    "print(\"test loss, test acc:\", results)"
   ]
  },
  {
   "cell_type": "code",
   "execution_count": 38,
   "metadata": {},
   "outputs": [
    {
     "data": {
      "text/plain": [
       "dict_keys(['loss', 'accuracy', 'val_loss', 'val_accuracy'])"
      ]
     },
     "execution_count": 38,
     "metadata": {},
     "output_type": "execute_result"
    }
   ],
   "source": [
    "history.history.keys()"
   ]
  },
  {
   "cell_type": "code",
   "execution_count": 39,
   "metadata": {},
   "outputs": [
    {
     "data": {
      "image/png": "[encoded data removed]",
      "text/plain": [
       "<Figure size 432x288 with 1 Axes>"
      ]
     },
     "metadata": {
      "needs_background": "light"
     },
     "output_type": "display_data"
    }
   ],
   "source": [
    "from matplotlib import pyplot\n",
    "pyplot.plot(history.history['loss'], label='train')\n",
    "pyplot.plot(history.history['val_loss'], label='test')\n",
    "pyplot.legend()\n",
    "pyplot.show()"
   ]
  },
  {
   "cell_type": "code",
   "execution_count": 40,
   "metadata": {},
   "outputs": [
    {
     "data": {
      "image/png": "[encoded data removed]",
      "text/plain": [
       "<Figure size 432x288 with 1 Axes>"
      ]
     },
     "metadata": {
      "needs_background": "light"
     },
     "output_type": "display_data"
    }
   ],
   "source": [
    "plt.plot(history.history['accuracy'])\n",
    "plt.plot(history.history['val_accuracy'])\n",
    "plt.title('model accuracy')\n",
    "plt.ylabel('accuracy')\n",
    "plt.xlabel('epoch')\n",
    "plt.legend(['train', 'test'], loc='upper left')\n",
    "plt.show()"
   ]
  },
  {
   "cell_type": "code",
   "execution_count": 41,
   "metadata": {},
   "outputs": [
    {
     "name": "stdout",
     "output_type": "stream",
     "text": [
      "188/188 [==============================] - 2s 10ms/step\n"
     ]
    }
   ],
   "source": [
    "import tensorflow as tf\n",
    "y_predict=model.predict(x_val)\n",
    "conf_mat=tf.math.confusion_matrix(np.argmax(y_val,axis=1) , np.argmax(y_predict,axis=1))"
   ]
  },
  {
   "cell_type": "code",
   "execution_count": 42,
   "metadata": {},
   "outputs": [
    {
     "data": {
      "image/png": "[encoded data removed]",
      "text/plain": [
       "<Figure size 936x504 with 2 Axes>"
      ]
     },
     "metadata": {
      "needs_background": "light"
     },
     "output_type": "display_data"
    }
   ],
   "source": [
    "import seaborn as sn\n",
    "import pandas as pd\n",
    "df_cm = pd.DataFrame(np.array(conf_mat), index = [i for i in classes],\n",
    "                  columns = [i for i in classes])\n",
    "plt.figure(figsize = (13,7))\n",
    "ax = sn.heatmap(df_cm, annot=True)\n",
    "plt.title(\"Confusion Matrix\", fontsize=20)\n",
    "plt.ylabel(\"True Class\"     , fontsize=20)\n",
    "plt.xlabel(\"Predicted Class\", fontsize=20)\n",
    "plt.show()"
   ]
  },
  {
   "cell_type": "code",
   "execution_count": 43,
   "metadata": {},
   "outputs": [
    {
     "name": "stdout",
     "output_type": "stream",
     "text": [
      "188/188 [==============================] - 2s 10ms/step\n"
     ]
    }
   ],
   "source": [
    "predicted_classes=model.predict(x_val)\n",
    "predicted_classes = np.argmax(np.round(predicted_classes),axis=1)\n",
    "predicted_classes\n",
    "y_val = np.argmax(np.round(y_val),axis=1)"
   ]
  },
  {
   "cell_type": "code",
   "execution_count": 44,
   "metadata": {},
   "outputs": [
    {
     "name": "stdout",
     "output_type": "stream",
     "text": [
      "              precision    recall  f1-score   support\n",
      "\n",
      "     Class 0       0.99      1.00      0.99       600\n",
      "     Class 1       1.00      1.00      1.00       600\n",
      "     Class 2       0.99      0.99      0.99       600\n",
      "     Class 3       0.99      1.00      0.99       600\n",
      "     Class 4       1.00      1.00      1.00       600\n",
      "     Class 5       1.00      0.99      1.00       600\n",
      "     Class 6       1.00      0.99      0.99       600\n",
      "     Class 7       1.00      1.00      1.00       600\n",
      "     Class 8       0.99      1.00      1.00       600\n",
      "     Class 9       1.00      0.99      0.99       600\n",
      "\n",
      "    accuracy                           1.00      6000\n",
      "   macro avg       1.00      1.00      1.00      6000\n",
      "weighted avg       1.00      1.00      1.00      6000\n",
      "\n"
     ]
    }
   ],
   "source": [
    "predicted_classes.shape, y_val.shape\n",
    "from sklearn.metrics import classification_report\n",
    "target_names = [\"Class {}\".format(i) for i in range(10)]\n",
    "print(classification_report(y_val, predicted_classes, target_names=target_names))"
   ]
  },
  {
   "cell_type": "code",
   "execution_count": 45,
   "metadata": {},
   "outputs": [
    {
     "data": {
      "text/plain": [
       "array([[599,   1,   2,   0,   1,   0,   1,   1,   0,   1],\n",
       "       [  0, 599,   0,   0,   0,   0,   0,   0,   0,   0],\n",
       "       [  1,   0, 597,   1,   0,   0,   1,   0,   0,   0],\n",
       "       [  0,   0,   1, 599,   0,   0,   0,   0,   2,   3],\n",
       "       [  0,   0,   0,   0, 598,   0,   0,   0,   0,   0],\n",
       "       [  0,   0,   0,   0,   0, 597,   0,   0,   0,   0],\n",
       "       [  0,   0,   0,   0,   0,   2, 595,   0,   0,   0],\n",
       "       [  0,   0,   0,   0,   1,   0,   0, 599,   0,   1],\n",
       "       [  0,   0,   0,   0,   0,   0,   3,   0, 598,   1],\n",
       "       [  0,   0,   0,   0,   0,   1,   0,   0,   0, 594]], dtype=int64)"
      ]
     },
     "execution_count": 45,
     "metadata": {},
     "output_type": "execute_result"
    }
   ],
   "source": [
    "from sklearn.metrics import confusion_matrix\n",
    "confusion_matrix(predicted_classes, y_val)"
   ]
  },
  {
   "cell_type": "code",
   "execution_count": null,
   "metadata": {},
   "outputs": [],
   "source": []
  }
 ],
 "metadata": {
  "kernelspec": {
   "display_name": "Python 3",
   "language": "python",
   "name": "python3"
  },
  "language_info": {
   "codemirror_mode": {
    "name": "ipython",
    "version": 3
   },
   "file_extension": ".py",
   "mimetype": "text/x-python",
   "name": "python",
   "nbconvert_exporter": "python",
   "pygments_lexer": "ipython3",
   "version": "3.9.12"
  }
 },
 "nbformat": 4,
 "nbformat_minor": 2
}
