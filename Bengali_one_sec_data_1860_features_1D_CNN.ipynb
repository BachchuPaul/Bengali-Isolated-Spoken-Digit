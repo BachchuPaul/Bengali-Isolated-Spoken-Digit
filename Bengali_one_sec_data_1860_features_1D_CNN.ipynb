{
 "cells": [
  {
   "cell_type": "code",
   "execution_count": 13,
   "metadata": {},
   "outputs": [],
   "source": [
    "#First, import all the necessary libraries into our notebook. LibROSA and SciPy are the Python libraries used for \n",
    "# processing audio signals.\n",
    "import os\n",
    "import librosa   #for audio processing\n",
    "import IPython.display as ipd\n",
    "import matplotlib.pyplot as plt\n",
    "import numpy as np\n",
    "from scipy.io import wavfile #for audio processing\n",
    "import warnings\n",
    "warnings.filterwarnings(\"ignore\")\n",
    "import numpy as np\n",
    "import matplotlib.pyplot as plt\n",
    "import pandas as pd"
   ]
  },
  {
   "cell_type": "code",
   "execution_count": null,
   "metadata": {},
   "outputs": [],
   "source": [
    "#TensorFlow recently released the Speech Commands Datasets. It includes 65,000 one-second long utterances of 30 short\n",
    "#words, by thousands of different people. We’ll build a speech recognition system that understands simple spoken \n",
    "#commands."
   ]
  },
  {
   "cell_type": "code",
   "execution_count": 14,
   "metadata": {},
   "outputs": [
    {
     "data": {
      "text/html": [
       "<div>\n",
       "<style scoped>\n",
       "    .dataframe tbody tr th:only-of-type {\n",
       "        vertical-align: middle;\n",
       "    }\n",
       "\n",
       "    .dataframe tbody tr th {\n",
       "        vertical-align: top;\n",
       "    }\n",
       "\n",
       "    .dataframe thead th {\n",
       "        text-align: right;\n",
       "    }\n",
       "</style>\n",
       "<table border=\"1\" class=\"dataframe\">\n",
       "  <thead>\n",
       "    <tr style=\"text-align: right;\">\n",
       "      <th></th>\n",
       "      <th>1</th>\n",
       "      <th>2</th>\n",
       "      <th>3</th>\n",
       "      <th>4</th>\n",
       "      <th>5</th>\n",
       "      <th>6</th>\n",
       "      <th>7</th>\n",
       "      <th>8</th>\n",
       "      <th>9</th>\n",
       "      <th>10</th>\n",
       "      <th>...</th>\n",
       "      <th>1852</th>\n",
       "      <th>1853</th>\n",
       "      <th>1854</th>\n",
       "      <th>1855</th>\n",
       "      <th>1856</th>\n",
       "      <th>1857</th>\n",
       "      <th>1858</th>\n",
       "      <th>1859</th>\n",
       "      <th>1860</th>\n",
       "      <th>Label</th>\n",
       "    </tr>\n",
       "  </thead>\n",
       "  <tbody>\n",
       "    <tr>\n",
       "      <td>0</td>\n",
       "      <td>-1.0424</td>\n",
       "      <td>-1.09460</td>\n",
       "      <td>-1.14160</td>\n",
       "      <td>-1.17170</td>\n",
       "      <td>-1.09490</td>\n",
       "      <td>-1.08050</td>\n",
       "      <td>-1.04750</td>\n",
       "      <td>-1.0387</td>\n",
       "      <td>-1.0650</td>\n",
       "      <td>-1.09530</td>\n",
       "      <td>...</td>\n",
       "      <td>1.10440</td>\n",
       "      <td>1.10440</td>\n",
       "      <td>1.10440</td>\n",
       "      <td>1.10440</td>\n",
       "      <td>1.10440</td>\n",
       "      <td>1.10440</td>\n",
       "      <td>1.10440</td>\n",
       "      <td>1.10440</td>\n",
       "      <td>1.10440</td>\n",
       "      <td>tin</td>\n",
       "    </tr>\n",
       "    <tr>\n",
       "      <td>1</td>\n",
       "      <td>0.5554</td>\n",
       "      <td>0.55540</td>\n",
       "      <td>0.55540</td>\n",
       "      <td>0.55540</td>\n",
       "      <td>0.55540</td>\n",
       "      <td>0.55540</td>\n",
       "      <td>0.55540</td>\n",
       "      <td>0.5554</td>\n",
       "      <td>0.5554</td>\n",
       "      <td>0.55540</td>\n",
       "      <td>...</td>\n",
       "      <td>0.55576</td>\n",
       "      <td>0.55576</td>\n",
       "      <td>0.55576</td>\n",
       "      <td>0.55576</td>\n",
       "      <td>0.55576</td>\n",
       "      <td>0.55576</td>\n",
       "      <td>0.55576</td>\n",
       "      <td>0.55576</td>\n",
       "      <td>0.55576</td>\n",
       "      <td>aat</td>\n",
       "    </tr>\n",
       "    <tr>\n",
       "      <td>2</td>\n",
       "      <td>-1.2299</td>\n",
       "      <td>-0.84431</td>\n",
       "      <td>-0.74205</td>\n",
       "      <td>-0.69578</td>\n",
       "      <td>-0.83158</td>\n",
       "      <td>-0.78374</td>\n",
       "      <td>-0.65759</td>\n",
       "      <td>-0.5981</td>\n",
       "      <td>-0.5396</td>\n",
       "      <td>-0.66768</td>\n",
       "      <td>...</td>\n",
       "      <td>0.42032</td>\n",
       "      <td>0.57954</td>\n",
       "      <td>0.66233</td>\n",
       "      <td>0.41518</td>\n",
       "      <td>-0.61920</td>\n",
       "      <td>3.51810</td>\n",
       "      <td>3.51810</td>\n",
       "      <td>3.51810</td>\n",
       "      <td>3.51810</td>\n",
       "      <td>choy</td>\n",
       "    </tr>\n",
       "    <tr>\n",
       "      <td>3</td>\n",
       "      <td>-1.8571</td>\n",
       "      <td>-1.80920</td>\n",
       "      <td>-1.72940</td>\n",
       "      <td>-1.65110</td>\n",
       "      <td>-1.65250</td>\n",
       "      <td>-1.65760</td>\n",
       "      <td>-1.68840</td>\n",
       "      <td>-1.6937</td>\n",
       "      <td>-1.6903</td>\n",
       "      <td>-1.71670</td>\n",
       "      <td>...</td>\n",
       "      <td>0.53253</td>\n",
       "      <td>0.53253</td>\n",
       "      <td>0.53253</td>\n",
       "      <td>0.53253</td>\n",
       "      <td>0.53253</td>\n",
       "      <td>0.53253</td>\n",
       "      <td>0.53253</td>\n",
       "      <td>0.53253</td>\n",
       "      <td>0.53253</td>\n",
       "      <td>ek</td>\n",
       "    </tr>\n",
       "    <tr>\n",
       "      <td>4</td>\n",
       "      <td>-1.4353</td>\n",
       "      <td>-1.41590</td>\n",
       "      <td>-1.44760</td>\n",
       "      <td>-1.48050</td>\n",
       "      <td>-1.52590</td>\n",
       "      <td>-1.56820</td>\n",
       "      <td>-1.59460</td>\n",
       "      <td>-1.5683</td>\n",
       "      <td>-1.4930</td>\n",
       "      <td>-1.40910</td>\n",
       "      <td>...</td>\n",
       "      <td>0.60578</td>\n",
       "      <td>0.60578</td>\n",
       "      <td>0.60578</td>\n",
       "      <td>0.60578</td>\n",
       "      <td>0.60578</td>\n",
       "      <td>0.60578</td>\n",
       "      <td>0.60578</td>\n",
       "      <td>0.60578</td>\n",
       "      <td>0.60578</td>\n",
       "      <td>dui</td>\n",
       "    </tr>\n",
       "  </tbody>\n",
       "</table>\n",
       "<p>5 rows × 1861 columns</p>\n",
       "</div>"
      ],
      "text/plain": [
       "        1        2        3        4        5        6        7       8  \\\n",
       "0 -1.0424 -1.09460 -1.14160 -1.17170 -1.09490 -1.08050 -1.04750 -1.0387   \n",
       "1  0.5554  0.55540  0.55540  0.55540  0.55540  0.55540  0.55540  0.5554   \n",
       "2 -1.2299 -0.84431 -0.74205 -0.69578 -0.83158 -0.78374 -0.65759 -0.5981   \n",
       "3 -1.8571 -1.80920 -1.72940 -1.65110 -1.65250 -1.65760 -1.68840 -1.6937   \n",
       "4 -1.4353 -1.41590 -1.44760 -1.48050 -1.52590 -1.56820 -1.59460 -1.5683   \n",
       "\n",
       "        9       10  ...     1852     1853     1854     1855     1856     1857  \\\n",
       "0 -1.0650 -1.09530  ...  1.10440  1.10440  1.10440  1.10440  1.10440  1.10440   \n",
       "1  0.5554  0.55540  ...  0.55576  0.55576  0.55576  0.55576  0.55576  0.55576   \n",
       "2 -0.5396 -0.66768  ...  0.42032  0.57954  0.66233  0.41518 -0.61920  3.51810   \n",
       "3 -1.6903 -1.71670  ...  0.53253  0.53253  0.53253  0.53253  0.53253  0.53253   \n",
       "4 -1.4930 -1.40910  ...  0.60578  0.60578  0.60578  0.60578  0.60578  0.60578   \n",
       "\n",
       "      1858     1859     1860  Label  \n",
       "0  1.10440  1.10440  1.10440    tin  \n",
       "1  0.55576  0.55576  0.55576    aat  \n",
       "2  3.51810  3.51810  3.51810   choy  \n",
       "3  0.53253  0.53253  0.53253     ek  \n",
       "4  0.60578  0.60578  0.60578    dui  \n",
       "\n",
       "[5 rows x 1861 columns]"
      ]
     },
     "execution_count": 14,
     "metadata": {},
     "output_type": "execute_result"
    }
   ],
   "source": [
    "dataset = pd.read_csv('XFull_Bengali.csv')\n",
    "dataset.head()\n"
   ]
  },
  {
   "cell_type": "code",
   "execution_count": 15,
   "metadata": {},
   "outputs": [
    {
     "data": {
      "text/plain": [
       "(13554, 1860)"
      ]
     },
     "execution_count": 15,
     "metadata": {},
     "output_type": "execute_result"
    }
   ],
   "source": [
    "X = dataset.iloc[:, 0:1860].values\n",
    "X.shape"
   ]
  },
  {
   "cell_type": "code",
   "execution_count": 16,
   "metadata": {},
   "outputs": [
    {
     "data": {
      "text/plain": [
       "(13554,)"
      ]
     },
     "execution_count": 16,
     "metadata": {},
     "output_type": "execute_result"
    }
   ],
   "source": [
    "y = dataset.iloc[:,1860].values\n",
    "y.shape"
   ]
  },
  {
   "cell_type": "code",
   "execution_count": 17,
   "metadata": {},
   "outputs": [],
   "source": [
    "import statistics\n",
    "import time\n",
    "from sklearn.model_selection import train_test_split\n",
    "#X_train, X_test, y_train, y_test = train_test_split(X, y, test_size=0.20)"
   ]
  },
  {
   "cell_type": "code",
   "execution_count": 18,
   "metadata": {},
   "outputs": [],
   "source": [
    "#Convert the output labels to integer encoded:\n",
    "from sklearn.preprocessing import LabelEncoder\n",
    "le = LabelEncoder()\n",
    "y=le.fit_transform(y)\n",
    "classes= list(le.classes_)"
   ]
  },
  {
   "cell_type": "code",
   "execution_count": 19,
   "metadata": {},
   "outputs": [],
   "source": [
    "#Now, convert the integer encoded labels to a one-hot vector since it is a multi-classification problem:\n",
    "train_audio_path = './one_sec_data'  \n",
    "labels=os.listdir(train_audio_path)\n",
    "from keras.utils import np_utils\n",
    "y=np_utils.to_categorical(y, num_classes=len(labels))"
   ]
  },
  {
   "cell_type": "code",
   "execution_count": 20,
   "metadata": {},
   "outputs": [
    {
     "data": {
      "text/plain": [
       "(13554, 1860, 1)"
      ]
     },
     "execution_count": 20,
     "metadata": {},
     "output_type": "execute_result"
    }
   ],
   "source": [
    "all_wave = np.array(X).reshape(-1,1860,1)\n",
    "all_wave.shape\n",
    "#len(all_wave[0]"
   ]
  },
  {
   "cell_type": "code",
   "execution_count": 25,
   "metadata": {},
   "outputs": [],
   "source": [
    "#Split into train and validation set\n",
    "#Next, we will train the model on 80% of the data and validate on the remaining 20%:\n",
    "import statistics\n",
    "import time\n",
    "from sklearn.model_selection import train_test_split\n",
    "#start_train= time.time()\n",
    "x_tr, x_val, y_tr, y_val = train_test_split(np.array(all_wave),np.array(y),stratify=y,test_size = 0.2,random_state=777,shuffle=True)\n",
    "#end_train = time.time()\n",
    "#print(f\"Train_time: {end_train-start_train}\")"
   ]
  },
  {
   "cell_type": "code",
   "execution_count": 22,
   "metadata": {},
   "outputs": [
    {
     "name": "stdout",
     "output_type": "stream",
     "text": [
      "Model: \"model\"\n",
      "_________________________________________________________________\n",
      " Layer (type)                Output Shape              Param #   \n",
      "=================================================================\n",
      " input_1 (InputLayer)        [(None, 1860, 1)]         0         \n",
      "                                                                 \n",
      " conv1d (Conv1D)             (None, 1846, 8)           128       \n",
      "                                                                 \n",
      " max_pooling1d (MaxPooling1D  (None, 615, 8)           0         \n",
      " )                                                               \n",
      "                                                                 \n",
      " dropout (Dropout)           (None, 615, 8)            0         \n",
      "                                                                 \n",
      " conv1d_1 (Conv1D)           (None, 603, 16)           1680      \n",
      "                                                                 \n",
      " max_pooling1d_1 (MaxPooling  (None, 201, 16)          0         \n",
      " 1D)                                                             \n",
      "                                                                 \n",
      " dropout_1 (Dropout)         (None, 201, 16)           0         \n",
      "                                                                 \n",
      " conv1d_2 (Conv1D)           (None, 191, 32)           5664      \n",
      "                                                                 \n",
      " max_pooling1d_2 (MaxPooling  (None, 63, 32)           0         \n",
      " 1D)                                                             \n",
      "                                                                 \n",
      " dropout_2 (Dropout)         (None, 63, 32)            0         \n",
      "                                                                 \n",
      " conv1d_3 (Conv1D)           (None, 55, 64)            18496     \n",
      "                                                                 \n",
      " max_pooling1d_3 (MaxPooling  (None, 18, 64)           0         \n",
      " 1D)                                                             \n",
      "                                                                 \n",
      " dropout_3 (Dropout)         (None, 18, 64)            0         \n",
      "                                                                 \n",
      " flatten (Flatten)           (None, 1152)              0         \n",
      "                                                                 \n",
      " dense (Dense)               (None, 128)               147584    \n",
      "                                                                 \n",
      " dropout_4 (Dropout)         (None, 128)               0         \n",
      "                                                                 \n",
      " dense_1 (Dense)             (None, 64)                8256      \n",
      "                                                                 \n",
      " dropout_5 (Dropout)         (None, 64)                0         \n",
      "                                                                 \n",
      " dense_2 (Dense)             (None, 10)                650       \n",
      "                                                                 \n",
      "=================================================================\n",
      "Total params: 182,458\n",
      "Trainable params: 182,458\n",
      "Non-trainable params: 0\n",
      "_________________________________________________________________\n"
     ]
    }
   ],
   "source": [
    "#Model Architecture for this problem\n",
    "#We will build the speech-to-text model using conv1d. Conv1d is a convolutional neural network which performs the convolution along only one dimension. \n",
    "# https://www.analyticsvidhya.com/blog/2019/07/learn-build-first-speech-to-text-model-python/\n",
    "from keras.layers import Dense, Dropout, Flatten, Conv1D, Input, MaxPooling1D\n",
    "from keras.models import Model\n",
    "from keras.callbacks import EarlyStopping, ModelCheckpoint\n",
    "from keras import backend as K\n",
    "K.clear_session()\n",
    "\n",
    "inputs = Input(shape=(1860,1))\n",
    "\n",
    "#First Conv1D layer\n",
    "conv = Conv1D(8,15, padding='valid', activation='relu', strides=1)(inputs)\n",
    "conv = MaxPooling1D(3)(conv)\n",
    "conv = Dropout(0.3)(conv)\n",
    "\n",
    "#Second Conv1D layer\n",
    "conv = Conv1D(16, 13, padding='valid', activation='relu', strides=1)(conv)\n",
    "conv = MaxPooling1D(3)(conv)\n",
    "conv = Dropout(0.3)(conv)\n",
    "\n",
    "#Third Conv1D layer\n",
    "conv = Conv1D(32, 11, padding='valid', activation='relu', strides=1)(conv)\n",
    "conv = MaxPooling1D(3)(conv)\n",
    "conv = Dropout(0.3)(conv)\n",
    "\n",
    "#Fourth Conv1D layer\n",
    "conv = Conv1D(64, 9, padding='valid', activation='relu', strides=1)(conv)\n",
    "conv = MaxPooling1D(3)(conv)\n",
    "conv = Dropout(0.3)(conv)\n",
    "\n",
    "#Fifth Conv1D layer\n",
    "#conv = Conv1D(128, 3, padding='valid', activation='relu', strides=1)(conv)\n",
    "#conv = MaxPooling1D(3)(conv)\n",
    "#conv = Dropout(0.3)(conv)\n",
    "#Flatten layer\n",
    "conv = Flatten()(conv)\n",
    "\n",
    "#Dense Layer 1\n",
    "conv = Dense(128, activation='relu')(conv)\n",
    "conv = Dropout(0.3)(conv)\n",
    "\n",
    "#Dense Layer 2\n",
    "conv = Dense(64, activation='relu')(conv)\n",
    "conv = Dropout(0.3)(conv)\n",
    "\n",
    "outputs = Dense(len(labels), activation='softmax')(conv)\n",
    "\n",
    "model = Model(inputs, outputs)\n",
    "model.summary()"
   ]
  },
  {
   "cell_type": "code",
   "execution_count": 23,
   "metadata": {},
   "outputs": [],
   "source": [
    "#Define the loss function to be categorical cross-entropy since it is a multi-classification problem:\n",
    "model.compile(loss='categorical_crossentropy',optimizer='adam',metrics=['accuracy'])"
   ]
  },
  {
   "cell_type": "code",
   "execution_count": 24,
   "metadata": {},
   "outputs": [],
   "source": [
    "#Early stopping and model checkpoints are the callbacks to stop training the neural network at the right time and \n",
    "# to save the best model after every epoch:\n",
    "es = EarlyStopping(monitor='val_loss', mode='min', verbose=1, patience=10, min_delta=0.0001) \n",
    "mc = ModelCheckpoint('best_model.hdf5', monitor='val_acc', verbose=1, save_best_only=True, mode='max')"
   ]
  },
  {
   "cell_type": "code",
   "execution_count": 26,
   "metadata": {},
   "outputs": [
    {
     "name": "stdout",
     "output_type": "stream",
     "text": [
      "Epoch 1/50\n",
      "WARNING:tensorflow:AutoGraph could not transform <function Model.make_train_function.<locals>.train_function at 0x00000035541870D8> and will run it as-is.\n",
      "Please report this to the TensorFlow team. When filing the bug, set the verbosity to 10 (on Linux, `export AUTOGRAPH_VERBOSITY=10`) and attach the full output.\n",
      "Cause: 'arguments' object has no attribute 'posonlyargs'\n",
      "To silence this warning, decorate the function with @tf.autograph.experimental.do_not_convert\n",
      "WARNING: AutoGraph could not transform <function Model.make_train_function.<locals>.train_function at 0x00000035541870D8> and will run it as-is.\n",
      "Please report this to the TensorFlow team. When filing the bug, set the verbosity to 10 (on Linux, `export AUTOGRAPH_VERBOSITY=10`) and attach the full output.\n",
      "Cause: 'arguments' object has no attribute 'posonlyargs'\n",
      "To silence this warning, decorate the function with @tf.autograph.experimental.do_not_convert\n",
      "338/339 [============================>.] - ETA: 0s - loss: 2.1775 - accuracy: 0.1729WARNING:tensorflow:AutoGraph could not transform <function Model.make_test_function.<locals>.test_function at 0x00000035047E2288> and will run it as-is.\n",
      "Please report this to the TensorFlow team. When filing the bug, set the verbosity to 10 (on Linux, `export AUTOGRAPH_VERBOSITY=10`) and attach the full output.\n",
      "Cause: 'arguments' object has no attribute 'posonlyargs'\n",
      "To silence this warning, decorate the function with @tf.autograph.experimental.do_not_convert\n",
      "WARNING: AutoGraph could not transform <function Model.make_test_function.<locals>.test_function at 0x00000035047E2288> and will run it as-is.\n",
      "Please report this to the TensorFlow team. When filing the bug, set the verbosity to 10 (on Linux, `export AUTOGRAPH_VERBOSITY=10`) and attach the full output.\n",
      "Cause: 'arguments' object has no attribute 'posonlyargs'\n",
      "To silence this warning, decorate the function with @tf.autograph.experimental.do_not_convert\n",
      "WARNING:tensorflow:Can save best model only with val_acc available, skipping.\n",
      "339/339 [==============================] - 19s 45ms/step - loss: 2.1767 - accuracy: 0.1732 - val_loss: 1.8406 - val_accuracy: 0.3943\n",
      "Epoch 2/50\n",
      "338/339 [============================>.] - ETA: 0s - loss: 1.5000 - accuracy: 0.4443WARNING:tensorflow:Can save best model only with val_acc available, skipping.\n",
      "339/339 [==============================] - 15s 43ms/step - loss: 1.4991 - accuracy: 0.4445 - val_loss: 0.9293 - val_accuracy: 0.7160\n",
      "Epoch 3/50\n",
      "338/339 [============================>.] - ETA: 0s - loss: 1.0317 - accuracy: 0.6295WARNING:tensorflow:Can save best model only with val_acc available, skipping.\n",
      "339/339 [==============================] - 15s 44ms/step - loss: 1.0313 - accuracy: 0.6297 - val_loss: 0.6311 - val_accuracy: 0.8207\n",
      "Epoch 4/50\n",
      "339/339 [==============================] - ETA: 0s - loss: 0.7958 - accuracy: 0.7288WARNING:tensorflow:Can save best model only with val_acc available, skipping.\n",
      "339/339 [==============================] - 15s 43ms/step - loss: 0.7958 - accuracy: 0.7288 - val_loss: 0.4307 - val_accuracy: 0.8738\n",
      "Epoch 5/50\n",
      "338/339 [============================>.] - ETA: 0s - loss: 0.6583 - accuracy: 0.7756WARNING:tensorflow:Can save best model only with val_acc available, skipping.\n",
      "339/339 [==============================] - 15s 44ms/step - loss: 0.6582 - accuracy: 0.7756 - val_loss: 0.3749 - val_accuracy: 0.9059\n",
      "Epoch 6/50\n",
      "339/339 [==============================] - ETA: 0s - loss: 0.5724 - accuracy: 0.8067WARNING:tensorflow:Can save best model only with val_acc available, skipping.\n",
      "339/339 [==============================] - 16s 47ms/step - loss: 0.5724 - accuracy: 0.8067 - val_loss: 0.3001 - val_accuracy: 0.9192\n",
      "Epoch 7/50\n",
      "338/339 [============================>.] - ETA: 0s - loss: 0.5293 - accuracy: 0.8248WARNING:tensorflow:Can save best model only with val_acc available, skipping.\n",
      "339/339 [==============================] - 17s 49ms/step - loss: 0.5288 - accuracy: 0.8250 - val_loss: 0.2594 - val_accuracy: 0.9262\n",
      "Epoch 8/50\n",
      "339/339 [==============================] - ETA: 0s - loss: 0.4661 - accuracy: 0.8438WARNING:tensorflow:Can save best model only with val_acc available, skipping.\n",
      "339/339 [==============================] - 16s 48ms/step - loss: 0.4661 - accuracy: 0.8438 - val_loss: 0.2386 - val_accuracy: 0.9336\n",
      "Epoch 9/50\n",
      "338/339 [============================>.] - ETA: 0s - loss: 0.4360 - accuracy: 0.8556WARNING:tensorflow:Can save best model only with val_acc available, skipping.\n",
      "339/339 [==============================] - 16s 47ms/step - loss: 0.4369 - accuracy: 0.8553 - val_loss: 0.2395 - val_accuracy: 0.9395\n",
      "Epoch 10/50\n",
      "338/339 [============================>.] - ETA: 0s - loss: 0.3941 - accuracy: 0.8688WARNING:tensorflow:Can save best model only with val_acc available, skipping.\n",
      "339/339 [==============================] - 16s 48ms/step - loss: 0.3949 - accuracy: 0.8686 - val_loss: 0.1874 - val_accuracy: 0.9487\n",
      "Epoch 11/50\n",
      "338/339 [============================>.] - ETA: 0s - loss: 0.3697 - accuracy: 0.8793WARNING:tensorflow:Can save best model only with val_acc available, skipping.\n",
      "339/339 [==============================] - 17s 50ms/step - loss: 0.3694 - accuracy: 0.8794 - val_loss: 0.1848 - val_accuracy: 0.9550\n",
      "Epoch 12/50\n",
      "339/339 [==============================] - ETA: 0s - loss: 0.3552 - accuracy: 0.8843WARNING:tensorflow:Can save best model only with val_acc available, skipping.\n",
      "339/339 [==============================] - 16s 48ms/step - loss: 0.3552 - accuracy: 0.8843 - val_loss: 0.1566 - val_accuracy: 0.9602\n",
      "Epoch 13/50\n",
      "339/339 [==============================] - ETA: 0s - loss: 0.3215 - accuracy: 0.8928WARNING:tensorflow:Can save best model only with val_acc available, skipping.\n",
      "339/339 [==============================] - 16s 48ms/step - loss: 0.3215 - accuracy: 0.8928 - val_loss: 0.1393 - val_accuracy: 0.9572\n",
      "Epoch 14/50\n",
      "339/339 [==============================] - ETA: 0s - loss: 0.2984 - accuracy: 0.9003WARNING:tensorflow:Can save best model only with val_acc available, skipping.\n",
      "339/339 [==============================] - 17s 49ms/step - loss: 0.2984 - accuracy: 0.9003 - val_loss: 0.1232 - val_accuracy: 0.9627\n",
      "Epoch 15/50\n",
      "338/339 [============================>.] - ETA: 0s - loss: 0.2971 - accuracy: 0.9034WARNING:tensorflow:Can save best model only with val_acc available, skipping.\n",
      "339/339 [==============================] - 17s 50ms/step - loss: 0.2974 - accuracy: 0.9034 - val_loss: 0.1408 - val_accuracy: 0.9546\n",
      "Epoch 16/50\n",
      "339/339 [==============================] - ETA: 0s - loss: 0.2826 - accuracy: 0.9076WARNING:tensorflow:Can save best model only with val_acc available, skipping.\n",
      "339/339 [==============================] - 16s 48ms/step - loss: 0.2826 - accuracy: 0.9076 - val_loss: 0.1131 - val_accuracy: 0.9675\n",
      "Epoch 17/50\n",
      "338/339 [============================>.] - ETA: 0s - loss: 0.2666 - accuracy: 0.9128WARNING:tensorflow:Can save best model only with val_acc available, skipping.\n",
      "339/339 [==============================] - 15s 45ms/step - loss: 0.2665 - accuracy: 0.9128 - val_loss: 0.1131 - val_accuracy: 0.9698\n",
      "Epoch 18/50\n",
      "338/339 [============================>.] - ETA: 0s - loss: 0.2652 - accuracy: 0.9142WARNING:tensorflow:Can save best model only with val_acc available, skipping.\n",
      "339/339 [==============================] - 15s 45ms/step - loss: 0.2651 - accuracy: 0.9141 - val_loss: 0.1006 - val_accuracy: 0.9701\n",
      "Epoch 19/50\n",
      "338/339 [============================>.] - ETA: 0s - loss: 0.2443 - accuracy: 0.9213WARNING:tensorflow:Can save best model only with val_acc available, skipping.\n",
      "339/339 [==============================] - 15s 44ms/step - loss: 0.2439 - accuracy: 0.9215 - val_loss: 0.0973 - val_accuracy: 0.9731\n",
      "Epoch 20/50\n",
      "338/339 [============================>.] - ETA: 0s - loss: 0.2513 - accuracy: 0.9178WARNING:tensorflow:Can save best model only with val_acc available, skipping.\n",
      "339/339 [==============================] - 15s 44ms/step - loss: 0.2513 - accuracy: 0.9179 - val_loss: 0.0904 - val_accuracy: 0.9734\n",
      "Epoch 21/50\n",
      "339/339 [==============================] - ETA: 0s - loss: 0.2232 - accuracy: 0.9279WARNING:tensorflow:Can save best model only with val_acc available, skipping.\n",
      "339/339 [==============================] - 15s 45ms/step - loss: 0.2232 - accuracy: 0.9279 - val_loss: 0.0966 - val_accuracy: 0.9705\n"
     ]
    },
    {
     "name": "stdout",
     "output_type": "stream",
     "text": [
      "Epoch 22/50\n",
      "338/339 [============================>.] - ETA: 0s - loss: 0.2385 - accuracy: 0.9247WARNING:tensorflow:Can save best model only with val_acc available, skipping.\n",
      "339/339 [==============================] - 15s 43ms/step - loss: 0.2383 - accuracy: 0.9248 - val_loss: 0.0908 - val_accuracy: 0.9753\n",
      "Epoch 23/50\n",
      "339/339 [==============================] - ETA: 0s - loss: 0.2293 - accuracy: 0.9267WARNING:tensorflow:Can save best model only with val_acc available, skipping.\n",
      "339/339 [==============================] - 14s 42ms/step - loss: 0.2293 - accuracy: 0.9267 - val_loss: 0.0941 - val_accuracy: 0.9731\n",
      "Epoch 24/50\n",
      "339/339 [==============================] - ETA: 0s - loss: 0.2131 - accuracy: 0.9338WARNING:tensorflow:Can save best model only with val_acc available, skipping.\n",
      "339/339 [==============================] - 15s 43ms/step - loss: 0.2131 - accuracy: 0.9338 - val_loss: 0.0947 - val_accuracy: 0.9753\n",
      "Epoch 25/50\n",
      "338/339 [============================>.] - ETA: 0s - loss: 0.2105 - accuracy: 0.9332WARNING:tensorflow:Can save best model only with val_acc available, skipping.\n",
      "339/339 [==============================] - 15s 43ms/step - loss: 0.2102 - accuracy: 0.9333 - val_loss: 0.1091 - val_accuracy: 0.9664\n",
      "Epoch 26/50\n",
      "339/339 [==============================] - ETA: 0s - loss: 0.2047 - accuracy: 0.9352WARNING:tensorflow:Can save best model only with val_acc available, skipping.\n",
      "339/339 [==============================] - 15s 43ms/step - loss: 0.2047 - accuracy: 0.9352 - val_loss: 0.0747 - val_accuracy: 0.9775\n",
      "Epoch 27/50\n",
      "339/339 [==============================] - ETA: 0s - loss: 0.2025 - accuracy: 0.9365WARNING:tensorflow:Can save best model only with val_acc available, skipping.\n",
      "339/339 [==============================] - 15s 45ms/step - loss: 0.2025 - accuracy: 0.9365 - val_loss: 0.0829 - val_accuracy: 0.9771\n",
      "Epoch 28/50\n",
      "339/339 [==============================] - ETA: 0s - loss: 0.1865 - accuracy: 0.9410WARNING:tensorflow:Can save best model only with val_acc available, skipping.\n",
      "339/339 [==============================] - 15s 45ms/step - loss: 0.1865 - accuracy: 0.9410 - val_loss: 0.0744 - val_accuracy: 0.9738\n",
      "Epoch 29/50\n",
      "338/339 [============================>.] - ETA: 0s - loss: 0.1872 - accuracy: 0.9408WARNING:tensorflow:Can save best model only with val_acc available, skipping.\n",
      "339/339 [==============================] - 15s 45ms/step - loss: 0.1872 - accuracy: 0.9408 - val_loss: 0.0679 - val_accuracy: 0.9797\n",
      "Epoch 30/50\n",
      "338/339 [============================>.] - ETA: 0s - loss: 0.1944 - accuracy: 0.9399WARNING:tensorflow:Can save best model only with val_acc available, skipping.\n",
      "339/339 [==============================] - 15s 44ms/step - loss: 0.1940 - accuracy: 0.9401 - val_loss: 0.0783 - val_accuracy: 0.9775\n",
      "Epoch 31/50\n",
      "339/339 [==============================] - ETA: 0s - loss: 0.1893 - accuracy: 0.9389WARNING:tensorflow:Can save best model only with val_acc available, skipping.\n",
      "339/339 [==============================] - 15s 43ms/step - loss: 0.1893 - accuracy: 0.9389 - val_loss: 0.0771 - val_accuracy: 0.9797\n",
      "Epoch 32/50\n",
      "339/339 [==============================] - ETA: 0s - loss: 0.1858 - accuracy: 0.9414WARNING:tensorflow:Can save best model only with val_acc available, skipping.\n",
      "339/339 [==============================] - 14s 43ms/step - loss: 0.1858 - accuracy: 0.9414 - val_loss: 0.0829 - val_accuracy: 0.9768\n",
      "Epoch 33/50\n",
      "339/339 [==============================] - ETA: 0s - loss: 0.1653 - accuracy: 0.9485WARNING:tensorflow:Can save best model only with val_acc available, skipping.\n",
      "339/339 [==============================] - 15s 43ms/step - loss: 0.1653 - accuracy: 0.9485 - val_loss: 0.0680 - val_accuracy: 0.9797\n",
      "Epoch 34/50\n",
      "339/339 [==============================] - ETA: 0s - loss: 0.1748 - accuracy: 0.9455WARNING:tensorflow:Can save best model only with val_acc available, skipping.\n",
      "339/339 [==============================] - 15s 43ms/step - loss: 0.1748 - accuracy: 0.9455 - val_loss: 0.0677 - val_accuracy: 0.9797\n",
      "Epoch 35/50\n",
      "339/339 [==============================] - ETA: 0s - loss: 0.1684 - accuracy: 0.9476WARNING:tensorflow:Can save best model only with val_acc available, skipping.\n",
      "339/339 [==============================] - 15s 44ms/step - loss: 0.1684 - accuracy: 0.9476 - val_loss: 0.0839 - val_accuracy: 0.9764\n",
      "Epoch 36/50\n",
      "338/339 [============================>.] - ETA: 0s - loss: 0.1681 - accuracy: 0.9466WARNING:tensorflow:Can save best model only with val_acc available, skipping.\n",
      "339/339 [==============================] - 15s 45ms/step - loss: 0.1684 - accuracy: 0.9462 - val_loss: 0.0621 - val_accuracy: 0.9812\n",
      "Epoch 37/50\n",
      "338/339 [============================>.] - ETA: 0s - loss: 0.1621 - accuracy: 0.9470WARNING:tensorflow:Can save best model only with val_acc available, skipping.\n",
      "339/339 [==============================] - 15s 43ms/step - loss: 0.1631 - accuracy: 0.9470 - val_loss: 0.0671 - val_accuracy: 0.9779\n",
      "Epoch 38/50\n",
      "339/339 [==============================] - ETA: 0s - loss: 0.1738 - accuracy: 0.9452WARNING:tensorflow:Can save best model only with val_acc available, skipping.\n",
      "339/339 [==============================] - 15s 44ms/step - loss: 0.1738 - accuracy: 0.9452 - val_loss: 0.0583 - val_accuracy: 0.9834\n",
      "Epoch 39/50\n",
      "338/339 [============================>.] - ETA: 0s - loss: 0.1571 - accuracy: 0.9528WARNING:tensorflow:Can save best model only with val_acc available, skipping.\n",
      "339/339 [==============================] - 15s 44ms/step - loss: 0.1572 - accuracy: 0.9529 - val_loss: 0.0600 - val_accuracy: 0.9823\n",
      "Epoch 40/50\n",
      "338/339 [============================>.] - ETA: 0s - loss: 0.1629 - accuracy: 0.9484WARNING:tensorflow:Can save best model only with val_acc available, skipping.\n",
      "339/339 [==============================] - 15s 43ms/step - loss: 0.1626 - accuracy: 0.9485 - val_loss: 0.0594 - val_accuracy: 0.9797\n",
      "Epoch 41/50\n",
      "339/339 [==============================] - ETA: 0s - loss: 0.1634 - accuracy: 0.9471WARNING:tensorflow:Can save best model only with val_acc available, skipping.\n",
      "339/339 [==============================] - 15s 43ms/step - loss: 0.1634 - accuracy: 0.9471 - val_loss: 0.0730 - val_accuracy: 0.9782\n",
      "Epoch 42/50\n",
      "338/339 [============================>.] - ETA: 0s - loss: 0.1540 - accuracy: 0.9526WARNING:tensorflow:Can save best model only with val_acc available, skipping.\n",
      "339/339 [==============================] - 15s 45ms/step - loss: 0.1541 - accuracy: 0.9524 - val_loss: 0.0638 - val_accuracy: 0.9819\n",
      "Epoch 43/50\n",
      "339/339 [==============================] - ETA: 0s - loss: 0.1640 - accuracy: 0.9472WARNING:tensorflow:Can save best model only with val_acc available, skipping.\n",
      "339/339 [==============================] - 15s 44ms/step - loss: 0.1640 - accuracy: 0.9472 - val_loss: 0.0580 - val_accuracy: 0.9838\n",
      "Epoch 44/50\n",
      "338/339 [============================>.] - ETA: 0s - loss: 0.1587 - accuracy: 0.9514WARNING:tensorflow:Can save best model only with val_acc available, skipping.\n",
      "339/339 [==============================] - 15s 44ms/step - loss: 0.1596 - accuracy: 0.9511 - val_loss: 0.0604 - val_accuracy: 0.9801\n",
      "Epoch 45/50\n",
      "338/339 [============================>.] - ETA: 0s - loss: 0.1689 - accuracy: 0.9468WARNING:tensorflow:Can save best model only with val_acc available, skipping.\n",
      "339/339 [==============================] - 15s 43ms/step - loss: 0.1688 - accuracy: 0.9469 - val_loss: 0.0781 - val_accuracy: 0.9801\n",
      "Epoch 46/50\n",
      "339/339 [==============================] - ETA: 0s - loss: 0.1565 - accuracy: 0.9500WARNING:tensorflow:Can save best model only with val_acc available, skipping.\n",
      "339/339 [==============================] - 15s 45ms/step - loss: 0.1565 - accuracy: 0.9500 - val_loss: 0.0624 - val_accuracy: 0.9827\n",
      "Epoch 47/50\n",
      "339/339 [==============================] - ETA: 0s - loss: 0.1438 - accuracy: 0.9555WARNING:tensorflow:Can save best model only with val_acc available, skipping.\n",
      "339/339 [==============================] - 15s 45ms/step - loss: 0.1438 - accuracy: 0.9555 - val_loss: 0.0599 - val_accuracy: 0.9834\n",
      "Epoch 48/50\n",
      "339/339 [==============================] - ETA: 0s - loss: 0.1513 - accuracy: 0.9511WARNING:tensorflow:Can save best model only with val_acc available, skipping.\n",
      "339/339 [==============================] - 15s 44ms/step - loss: 0.1513 - accuracy: 0.9511 - val_loss: 0.0588 - val_accuracy: 0.9827\n"
     ]
    },
    {
     "name": "stdout",
     "output_type": "stream",
     "text": [
      "Epoch 49/50\n",
      "338/339 [============================>.] - ETA: 0s - loss: 0.1371 - accuracy: 0.9571WARNING:tensorflow:Can save best model only with val_acc available, skipping.\n",
      "339/339 [==============================] - 14s 42ms/step - loss: 0.1369 - accuracy: 0.9572 - val_loss: 0.0657 - val_accuracy: 0.9834\n",
      "Epoch 50/50\n",
      "338/339 [============================>.] - ETA: 0s - loss: 0.1409 - accuracy: 0.9546WARNING:tensorflow:Can save best model only with val_acc available, skipping.\n",
      "339/339 [==============================] - 15s 44ms/step - loss: 0.1406 - accuracy: 0.9547 - val_loss: 0.0569 - val_accuracy: 0.9812\n",
      "Train_time: 767.1192300319672\n"
     ]
    }
   ],
   "source": [
    "# Let us train the model on a batch size of 32 and evaluate the performance on the holdout set:\n",
    "start_train= time.time()\n",
    "history=model.fit(x_tr, y_tr ,epochs=50, callbacks=[es,mc], batch_size=32, validation_data=(x_val,y_val))\n",
    "end_train = time.time()\n",
    "print(f\"Train_time: {end_train-start_train}\")"
   ]
  },
  {
   "cell_type": "code",
   "execution_count": 27,
   "metadata": {},
   "outputs": [
    {
     "name": "stdout",
     "output_type": "stream",
     "text": [
      "WARNING:tensorflow:AutoGraph could not transform <function trace_model_call.<locals>._wrapped_model at 0x000000353BC513A8> and will run it as-is.\n",
      "Please report this to the TensorFlow team. When filing the bug, set the verbosity to 10 (on Linux, `export AUTOGRAPH_VERBOSITY=10`) and attach the full output.\n",
      "Cause: module 'gast' has no attribute 'Constant'\n",
      "To silence this warning, decorate the function with @tf.autograph.experimental.do_not_convert\n",
      "WARNING: AutoGraph could not transform <function trace_model_call.<locals>._wrapped_model at 0x000000353BC513A8> and will run it as-is.\n",
      "Please report this to the TensorFlow team. When filing the bug, set the verbosity to 10 (on Linux, `export AUTOGRAPH_VERBOSITY=10`) and attach the full output.\n",
      "Cause: module 'gast' has no attribute 'Constant'\n",
      "To silence this warning, decorate the function with @tf.autograph.experimental.do_not_convert\n",
      "WARNING:tensorflow:AutoGraph could not transform <function canonicalize_signatures.<locals>.signature_wrapper at 0x000000352F692A68> and will run it as-is.\n",
      "Please report this to the TensorFlow team. When filing the bug, set the verbosity to 10 (on Linux, `export AUTOGRAPH_VERBOSITY=10`) and attach the full output.\n",
      "Cause: 'arguments' object has no attribute 'posonlyargs'\n",
      "To silence this warning, decorate the function with @tf.autograph.experimental.do_not_convert\n",
      "WARNING: AutoGraph could not transform <function canonicalize_signatures.<locals>.signature_wrapper at 0x000000352F692A68> and will run it as-is.\n",
      "Please report this to the TensorFlow team. When filing the bug, set the verbosity to 10 (on Linux, `export AUTOGRAPH_VERBOSITY=10`) and attach the full output.\n",
      "Cause: 'arguments' object has no attribute 'posonlyargs'\n",
      "To silence this warning, decorate the function with @tf.autograph.experimental.do_not_convert\n",
      "INFO:tensorflow:Assets written to: ram://4b990d60-0c16-4c38-957f-764b041e403c/assets\n",
      "320.2529296875\n"
     ]
    }
   ],
   "source": [
    "import pickle\n",
    "import sys\n",
    "\n",
    "p = pickle.dumps(model)\n",
    "print(sys.getsizeof(p)/1024) #KB"
   ]
  },
  {
   "cell_type": "code",
   "execution_count": 17,
   "metadata": {},
   "outputs": [],
   "source": [
    "model.save('best_model_bengali_full.hdf5')"
   ]
  },
  {
   "cell_type": "code",
   "execution_count": 46,
   "metadata": {},
   "outputs": [
    {
     "data": {
      "image/png": "[encoded data removed]",
      "text/plain": [
       "<Figure size 432x288 with 1 Axes>"
      ]
     },
     "metadata": {
      "needs_background": "light"
     },
     "output_type": "display_data"
    }
   ],
   "source": [
    "#I’m going to lean on visualization again to understand the performance of the model over a period of time:\n",
    "from matplotlib import pyplot \n",
    "pyplot.plot(history.history['loss'], label='train') \n",
    "pyplot.plot(history.history['val_loss'], label='test') \n",
    "pyplot.legend() \n",
    "pyplot.show()"
   ]
  },
  {
   "cell_type": "code",
   "execution_count": 19,
   "metadata": {},
   "outputs": [],
   "source": [
    "#Loading the best model\n",
    "from keras.models import load_model\n",
    "model=load_model('best_model_bengali_full.hdf5')"
   ]
  },
  {
   "cell_type": "code",
   "execution_count": 26,
   "metadata": {},
   "outputs": [],
   "source": [
    "#define the function that predicts text for the given audio:\n",
    "def predict(audio):\n",
    "    prob=model.predict(audio.reshape(1,8000,1))\n",
    "    index=np.argmax(prob[0])\n",
    "    return classes[index]"
   ]
  },
  {
   "cell_type": "code",
   "execution_count": 28,
   "metadata": {},
   "outputs": [
    {
     "name": "stdout",
     "output_type": "stream",
     "text": [
      "Audio: tin\n",
      "Text: tin\n"
     ]
    }
   ],
   "source": [
    "#Prediction time! Make predictions on the validation data:\n",
    "import random\n",
    "index=random.randint(0,len(x_val)-1)\n",
    "samples=x_val[index].ravel()\n",
    "print(\"Audio:\",classes[np.argmax(y_val[index])])\n",
    "ipd.Audio(samples, rate=8000)\n",
    "print(\"Text:\",predict(samples))"
   ]
  },
  {
   "cell_type": "code",
   "execution_count": 35,
   "metadata": {},
   "outputs": [
    {
     "name": "stdout",
     "output_type": "stream",
     "text": [
      "start\n",
      "end\n"
     ]
    }
   ],
   "source": [
    "#The best part is yet to come! Here is a script that prompts a user to record voice commands. \n",
    "#Record your own voice commands and test it on the model:\n",
    "import sounddevice as sd\n",
    "import soundfile as sf\n",
    "\n",
    "samplerate = 16000  \n",
    "duration = 1 # seconds\n",
    "filename = 'yes.wav'\n",
    "print(\"start\")\n",
    "mydata = sd.rec(int(samplerate * duration), samplerate=samplerate,\n",
    "    channels=1, blocking=True)\n",
    "print(\"end\")\n",
    "sd.wait()\n",
    "sf.write(filename, mydata, samplerate)"
   ]
  },
  {
   "cell_type": "code",
   "execution_count": 34,
   "metadata": {},
   "outputs": [
    {
     "data": {
      "text/html": [
       "\n",
       "                <audio  controls=\"controls\" >\n",
       "                    <source src=\"data:audio/wav;base64,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\" type=\"audio/wav\" />\n",
       "                    Your browser does not support the audio element.\n",
       "                </audio>\n",
       "              "
      ],
      "text/plain": [
       "<IPython.lib.display.Audio object>"
      ]
     },
     "execution_count": 34,
     "metadata": {},
     "output_type": "execute_result"
    }
   ],
   "source": [
    "#Let us now read the saved voice command and convert it to text:\n",
    "os.listdir('./voice-commands')\n",
    "filepath='./voice-commands'\n",
    "\n",
    "#reading the voice commands\n",
    "samples, sample_rate = librosa.load(filepath + '/' + 'yes.wav', sr = 16000)\n",
    "samples = librosa.resample(samples, sample_rate, 8000)\n",
    "ipd.Audio(samples,rate=8000) \n",
    "\n"
   ]
  },
  {
   "cell_type": "code",
   "execution_count": 36,
   "metadata": {},
   "outputs": [
    {
     "data": {
      "text/plain": [
       "'choy'"
      ]
     },
     "execution_count": 36,
     "metadata": {},
     "output_type": "execute_result"
    }
   ],
   "source": [
    "predict(samples)"
   ]
  },
  {
   "cell_type": "code",
   "execution_count": 37,
   "metadata": {},
   "outputs": [
    {
     "data": {
      "text/html": [
       "\n",
       "                <audio  controls=\"controls\" >\n",
       "                    <source src=\"data:audio/wav;base64,UklGRqQ+AABXQVZFZm10IBAAAAABAAEAQB8AAIA+AAACABAAZGF0YYA+AAAAAP7/AAD/////AAAAAAAAAAAAAAAA//8AAAAAAAAAAAEA//8AAAAAAAAAAAAAAAAAAAAAAAD//wAAAAAAAAAAAAAAAAEAAAAAAAAAAgAAAAIAAgD+/wIAAQAAAAAAAQAAAAEAAQAAAP////8AAAAAAAAAAP3//f8AAP////8AAAAAAAAAAAIAAQAAAAAAAAAAAAAAAAAAAAAA//8AAP///v8AAAAA//8AAAAA/////wAAAAAAAP3///8AAAEAAQAAAP////8AAAAAAAAAAAIAAQAAAAAAAAD9////AAD9/wAA/////wAAAQAAAAAAAQACAAEAAAAAAAEAAAADAAIA//8BAP//AAAAAAAAAAABAAEA/v8AAP3///8CAP7/AAAAAP///v///wAAAgAAAAAAAQABAP////8AAAAAAAAAAAAAAAAAAAEAAAAAAAAA//////////8AAAAAAAACAP//AQAAAPz/AQAAAAAAAAAAAAEAAAAAAAAAAAAAAAAA/////wAAAAAAAAAAAQD//wAAAAAAAAAAAAAAAAAAAAD//wAAAAAAAP//AAD//////f8AAAAAAwAAAP7/AAAAAAAAAAABAP//AAABAAEAAAAAAAMAAQAAAAAA/v8BAAIAAAABAAEAAQAAAP//AQD/////AgAAAAAA//8AAP////8DAAAAAAAAAAAAAAD//wEAAQAAAAEAAAAAAAAAAAAAAP7/AQD///7/AAABAAEAAAAAAAAA//8AAAIAAQAAAP////8DAAEA///9/wAA/v8AAAIAAQABAAEAAQAAAAAAAAAAAP//AAAAAAAAAAAAAAAA/v///wAA/////wEAAQAAAAAAAAD//wIAAAAAAAAAAAAAAAAAAAD+/wAAAAAAAP////8AAP7//v8AAAAA////////AQABAAAAAAACAAAAAAACAAAAAwABAAAAAAAAAAMABAD+/wAA///9/wAAAAAAAAAAAAAAAAAAAAAAAAAAAwADAP7/AAAAAAEA/v///wAAAQAAAP7/AAAAAAAA/v8AAAEAAAAAAP//AgABAAAAAgAAAAAAAAAAAAAAAQABAAAAAAABAAAAAAAAAAAAAgAAAP//AAD+/wAAAAD///////8AAAAAAQAAAAAAAAAAAAAAAAD+/wAAAAAAAAAAAQABAAAAAAAAAAAAAQABAAAAAAAAAP////8CAAAAAAAAAAIAAAAAAP//AAACAP//AAAAAP//AAAAAP//AgAAAAAAAQD9/wAA/////wAAAQAAAAAAAAD/////AAAAAAAAAQABAAAAAQABAAIAAQD//wAAAAAAAP///f///wAAAAAAAAAA/v/+/wAAAAD/////AAAAAAAAAAAAAAAAAAABAAMA/v8AAAAAAAAAAAAAAAAAAAEAAQAAAAEAAQAAAAAA///9/wAAAAD9////AAAAAAAA//8AAAAAAAAAAAAAAAAAAAIA/////wAAAAACAP///f8AAP////8AAAEAAQABAAIAAAAAAP////8AAAAAAgAAAAAA///9////AAAAAAAAAAAAAAAA/////wAAAQAAAAAAAAAAAAAAAAAAAAAAAAAAAAIAAQAAAAAA//8AAAAAAAAAAP//AAABAAMAAQAAAAAAAAAAAP///P/9/wAAAAD//wAAAAD+////AQABAAEA/v///wAA//8AAAAAAAD+/wEAAAADAAAA//8CAP//AAABAAEAAAACAAAAAQAAAP3/AAACAAAAAQAAAAAA//8AAAAAAAAAAP//AAADAAAA//8CAAAAAAD///7///8AAAAAAAACAAAAAAD/////AAD/////AAAAAAIAAAABAAEAAAAAAAAA//8AAAEAAAAAAAAAAAAAAAAA//8AAAAA/v8AAAIAAAD+/wAAAQADAAEAAAD+/wAAAAAAAAAAAAAAAAEAAQAAAAAAAAAAAAAAAAAAAAAAAgAAAAIAAAAAAAAAAQADAAAAAgD//wIAAAAAAAAA/P8AAAAAAgACAAAAAgD+/////////wAA/v8BAAAAAAAAAP//AAD+/wAAAAACAAAAAAAAAAEAAwAAAAAAAAAAAAEA//8AAAAAAAAAAAAAAgAEAAEAAAAAAAAAAAAAAP//AAD+//7/AAAAAAAA//8CAAEAAAAEAAAAAAAAAP//AAAAAAAAAAAAAAAA//8AAAAA///+////AQD+/wAAAQAAAAEAAAAAAAAAAAAAAAAAAQACAP3//f8AAAAAAAD+/wEAAAABAAAAAAAAAP7/AAAAAAAAAAAAAAAAAAD+/wAAAAAAAAMAAAABAAAAAAAAAP////8AAAAA//8AAAEAAAABAAEAAAAAAAAA//8AAAEAAAAAAP////8AAP//AQD//////f8AAAAA+/8AAAAAAAAAAAEAAQAAAAIAAQD/////AAAAAAAAAQAAAAMAAQD+/wIAAAAAAAIAAAD//wAAAQABAAAAAAAAAAAAAAAAAAAA/////////v/9//7//////wAAAAAAAP7/AAAAAAAA/f///wAA//8AAP7/AAAAAP3/AAD//wIABAAAAAMABAADAAUAAgD/////AAAAAAAAAAD9/wAAAAAAAP3///8BAAQABgAEAAMAAAD7//z/AgAFAAgABAADAAAA/f/5//r//v8CAAEACQAIAAAAAgD8//r//P/8/////v/x/+L/3f/n//T///8HAAQA/f/2/+3/5f/g/9//7////wgAFgAeAB8AEwAKAAQAAAD6/wMAHAAtACYAFgALAA0AJQAqACIADQAOABwAHQAjAAYA7f/t/9n/xf/L/+L/EgA6ADQAEQD9//7/AgADANf/sP+6/9T/AgAFAPz/9v/q/+7/8v/9/////P/x//D/8f/6/wAA+v/3//H/9v/y//X/7//t//T/EAAtACgADQDr/+r/9f8EAA8AHAAbAA4A/f/j/+D/2P/x/xUALwBMAFoAaABmAFgAQQBAADQAOQA8ADEAFwDZ/6j/k/+k/5//rP+z/7j/zv/P/+T/8//8/xAAHwAbABYAGgAJAOn/1P+w/6b/mf+g/8X/1P/1/wAAAAARABwAMQA+AFUAZQBqAHYAYgBNADQAEwAAAAgAAAAGAB4AFwADAOf/1//Y//P/FAAdABQA/f/Q/8D/zf/O/8P/sf/F/+7/AQAMAPz/9v8DAB0ALwAyACsAGAAAAOb/5//i/+f/+f/1/+b/8f/t/+X/4P/Y//f/FQA+AFkASQAtABAABADz/9f/tv+9//v/JAA+AEIALgArADEAFAAHAPH/9f8KAP//8v/S/9//4//4//r/4f/Z/+T/9P/q/+z/7P/u/93/1f/e/+z/7f/2//z///8UABUAGgAdABsAJQA6AE0AWwBiAFEAOAAdABYACgD9//X/4v/w//v/8f/e/9D/2P/d//D/+v8JAAAA5P/d/9v/6//i/8//wP++/8T/yf/h/+j/5v/k/+f/+P8MABcAJQA4AEQAQAA1ABsAAADp/+P/CQAbACIALwAtACoAMQAlABsAGgABAAUAEgAbABUACgAEABEADgD2//f/+//5/9//2//a/9X/3//x/xYAMAA9ADEAFwAGAPT/5v/h/+H/3f/+/xcADwD8/9f/tf+z/7v/uv/M/8T/0v/i/+P/8/8EAAkABAACAP3/CQAOAAYA+/8MACAANQAzAEgASwAoABYA//8AAAoAEwAbABYA9f/t/+j/4//n/woANwBDAFwAXgBNAEIANgAkAA0A5v/c/9r/4v/r/+7/8v/V/7z/uP+3/7n/wP+1/7f/zf/z/w8AEQATAP3/9v///+n/5P/n//n/+f/6//L/5v/2//7/HAAZACQAIAATAA8AIgAuACgAIQAFAA4AIQBEAFEAUgBIADEAJgAkABAA9f/f/9j/2//Q/+X/9P/2//b/6v/V/8X/vv+5/9L/6f/7/w0ABAAIABsAJAAsACsAQQBRADwAIAD0/+r/6v/g/+r/7/8DAAYA9//l/9v/3f/P/8P/vP/C/9L/5f/n/+b/8f/v//z/GAAqACQAEwANAAAAAwAPACEAGgAQAA0A9v/3//j/+P8EABcAKgAwADAAKQAgABcAEAAKAAYACAAGABMAEQAbAC4AMQAUANb/0f/c/+//DwAjACEAGgAAANv/1v/G/9j/4v/j/+3/8v/9//n/8f/T/97/7f8LAB0ACgDr/8P/s/+s/7T/rf/d/xAANgBOAEUASABSAEkAJgAfACEAJwAzADcALQAZAAAA4//Z//7/HgAYAAgA9f/i/8z/zP/d/9f/4//Y/9b/8P/N/8f/wP/X/wcA+P+u/3j/rv///3AArwCLAFwANwBpAGgAIADq/+D/GQBGAKgAsQBxAD8AFwAKAOv/0P+f/27/fP+c/6X/tv94/xD/+v4R/0j/d/+J/7L/5P8cAEcAbQBnAGAAUgBpALAAzgDQALcAsgCHAIQAqACbAHoAYQBMACkA9/+x/47/wP/l/97/qf80/yb/f//7/wsAv/+Q/4r/y/8pAHYAWgDP/2v/Zf/G/0EASwAaAPv/mf+W/x4A9P+p/1X/DP80/4n/y//d/+L/6/8IAPf/AQAlAHkA0QDWAPAAFwEeAVsBmgGMAUsB8gDYALIAiQCZAH0ADADi//f/2//K/4T/Mf/z/sH+fv5a/pD+o/5o/kr+ef6l/hL/Mf/4/g7/dv/+/z4ALAArAIMAwwAtAU8BAgHkAL4AvwDrABYBAgH3AP0AoQCQAGAAzf9l//v+Hv+p/8v/tf/N/0P/6f5C/4H/v/+L/2T/i//p/xoAGgBjAJsA7wAjAdMAwgAyAVUBDAG3AGIALQBOAKAA8gAWAYMAFwAtAE8ACwBf///+CP9m/3H/if/i/w8Ar/8A/4P+aP5+/s7+I/9Y/6r/df+p/5v/tv89ADgADQDK/4z/Y//k/1EAqwDeAHgA/v/v/00ANQAdADkAZwC7AAoB7ADlANgALgAfAD0AfgC2ANwApwAzAD0AAADI/3n/Nf9A/27/T/8g/zv/yv9TAA4Aqv9P/3P/3v+4/6//vf/Y/+D/qP+l/7H/w//p/yYAVACJAGMAdQAMAV0B4wARAMD/7v+QABQBTQHZACcAm/9Y/8//KQDT/1//Lf9y//7/2/9q/1r/Z/9b/1f/Z/+G/6b/rf+U//X/XgDUAP0AjQBlAGAAxAANARQB/gDAABsA3v8aAFoAjQBOAEsAyv+f/13/IP8k/93+Dv9E/7v/nP9J/1v/k/8sAEsAnP8S//X+Z//E/9r/sf+D/zcAXAAqAA8Ag/9q/+D/UACoAEQBlgFtARYBtACpAKgA5AAyAQgB6QA1AXIBbwEIAQQAOv86/3X/cP96/w//l/7S/vL+1P5e/vn9Mf6N/hb/gP+T/4f/YP86/yX/pv9UAJIAoQCKAN0AaAFOARsBRgE9AUwBYAECAQcB7wChAFEAzP9u/3z/s/8BAIUAMAAl/8/+Hv/g/30ATAAiAH7/iv8fAOD/zf/K/7D/Xf+7/2sAWQArALn/NP9R/9T/yv+U/67/Y/97/8D/3P8xAB0AkP88/zf/QP9Q/0f/qf8jANoA/gChAEMA6f9EAJQAIQF9AU0BmQHFAUQB3gCcAFQAZQB+AEwAHABfACoASP+V/nb+2P4m/4b/PP9g/ysALgAOAA8Ahv85/3f/iP8IAIcAfAAEAAAAWgBkANr/wv+IAKQAZwDs/xr/xP7t/nT/5/+h/9n+eP6H/rn+E//D/oT+FP/X/7cAZgFMAXsAjgBVAVIBzQCuADMBsAHyAeIBJAF8AJ4AYQCvAFkBVgEnARUB7AAAAIr/RP9n/9H/vf9u/3T/j/9P/13/X/+Q/5r/cP+c/5f/zf7o/X79av1I/kH/l/9NAAwApv4e/hH+Rv7I/nH/YQCbAb0CfQJNAT4Azv+N//X/PAHqAbgCewOJA+sCWAI/Ab//Tf8N/9f/NQHZAfUBWwEVALD+3/0i/Vf9of2x/ef+BgBMAAgAF/+5/ZD9ov0X/u/+nP+Z/7r+x/7E/0kBEwLUAbgAUP9z/xsANgAAAMr/jwDoAXYDpwNdA78CRwHF/5H+qP5p/3kA+ADCABAB5AFYAQsAX/7k/OL83f3j/rT+Sf+FAKEAHADW/r394f3M/gP/y/4j/y0AEgF+AXsBaABN/0//aQDYAGIBLAIyAmoCugLLATQA3v9e/zj+R/7C/yoCRgMVAhQAIP7F/Uf+FP6K/bz9yv65/37/QP8i/zT+VP5m//D/mwDVAKP/yP7e/nz/RQDeAEQBkAF3Ag0DCQLmAeACdgLXAFoAnAB/AEcBTQGSAN8AJQGl/xf+d/6//pD+Xv8WADYAu/9W/gD9UP2H/S79Iv5D/uD++/79/Z79AP5h/yn//P6Y/63/TwCdASAChwLgAlUCWgJGAtABYgJWA1gDbQNzAnoBWgFfALMA5AA3AJMA2QBrAAoAg/6+/Mr7bftk/AD+R/83/4r/bf+f/sX9KP3q/Ur/WwDGADUB1gD4ABwB1AB5AHUA5gA6AAcABgA5AGAAZAAbAEv/t/+SALIAPwDS/2v/Uv9A/yf/kf9tAE4BFgKmAVUAmP+y/vv+9f/dABQBLAFLAY0ALADm/yYAAAC1/wsA6P9QAPMATwBP/7D+xP5G/7T/IACOAL0AhAC2/5//sgCKAVYBqACK/0v+1/7N/0sA4P/l/p7+Kf9+/zn/+f6c/sb+z/4s/83/KQG0AtgBJAAH/0v/wwBjAf0AAQHyALgA8wCUAKX/PP+3//D/NgDj/8v+Kv64/rr/ZwD3AFgAzf/a/3n/tP+eAJAAk/8b/1r/Tv9F/xj/gf6S/i3/TP+w/xsAiQDdAAUAsP+1/8r/eQBpAXECxALZAggDUgJzAZwAKwBoACABSwKYA/gDAwP6AVUAP//n/gz+7P27/n7/ev8d/lb9MP18/Ln7yfpI+7P8Of1C/cL9dv4K/vL96v5s/xsAqAFaAikCYwK4AQ0CLwNoAq8BsgHZAdcCBAPiAcMBOQEUAAz/SP/9/y4AAQEzAQ8BywDo/7r+Hf7B/rD/UQFwAqkBpQATADEAs/8t/xz/pv8BAFj//P3E/cP9Xf30/cT9TP49/x//af3S+6r75vtk/Vf/JAA+AGQAwADoABIBswD0AHoCXwOrAo0B2gHwApsD3QLGAoQDJwMSAi0BfwHuAk4DMwJ7ANf+Pv/n/1YA2wCuAJkAdADB/1X+Vf0Z/pr/rQDlAQICbwGUAB//g/55/lf+rf2m/eb99fwq/Ln7yfs8/E/8jvwM/Ur9Tf0z/RP+N/8SALYA+wBKARwBFwG6AfAB7wD8/7r/jgCoAXsCogEGAH3/1P+YAXYCiQGl/9P+DADHAZEDPgSiAU3+Pf54/64AaAKtAhADSgJ5AAEBAQJvAd/+iv1p/mIAwgExAogBt/+e/kP+Gf7o/en+AgF3A/IEvgRoA0ICTwJYAaH/9P2z/MX93P/PAfYBWQDR/sP99vxA/Gr8dPwc/BT8C/zP/CP+Pv+f/2X+dvxo++/6BvoB+oX69Pvs/VD+AP7V/XP+p/9V/7D9Rf3CACkFLAcOB3AFuQVkBoYFVgWDBqEITQroCWYIfQbiBtAIBQi+BgoGywRtAzYA4/0S/jP+5v2b/Nn7wPrz+KX4Bvjr94P48fdh+JT5Nfr5+fT5WPlk+KP3//cN++z8WP6sAHgCwAGS/8T+M/7h/+QDAAVIBJUFWQWlA7sCiQOjBHYEyAOKAhIDiAS5BWsEjwLHAg4DJgO+AyIDOP/9+736n/qN++z7gPt3+1H7hfu3/Rj/3/+OAAwAef+dAJoCwgVgCeEJKgl+BjADiAJeBO8FSwZIBuUEuATQBC8CAP9l/Bj6h/kr+jP65fhn9rnzqfKS8m7zBPS38pzysPKl8ufz3vZX+X36jft/+yr9cP9pAakDRAU+B2UJaQpdCTAIhwikCmsNeA7dD8UQZBDmDnMLHgssDMMM8QxMDaMOPQ2BC9sJgwcpBbECdAGGAXIB1P5r+/j3sfXN8iDwcO4O7a7t/Owp7HHq/+dj5fPlOOjv6SHsDO/T9A75cP10ABYBIAEbAmwE7QZpC8oOjhCCEDkPqw5SD4QQvQ7RC/0HJQXEBLACfAGa/03+hf9DAPkA7gE1AawAnv41/bcADgMRBsoG8gPAATIC7gLPBHoHfAaiBcEELANwAgUDxwJ9AzwDDADu/sz/Sv41/Kn6avmF+cT4DPht93z3B/an9N70PfQi86nzcfa3+Rn8IfwL++/6J/xN/I39u/+PAhAD/QFlA8kD0AR0BDkE/wU/BboE+QXPB/gI5AcTBe8C8gOGB/QJzAe/BU8F2QNNAqcBSgP/A80C3QFr/9T+TgBdASD/Fvro+Ef5l/wMAEb+dfut+E31/vPR9Mj17fiy/ID+Fv8l/4X+jf3f/Sf/HAH7BGUHdghpB58ErQO6A70EXATVA8oFygaMBbACA/6s/Eb90v5NADP8Tvjp96v57/5vAj4BdADp/wb+f/1A/U7/9QM9B5sIDwjzBqADGAG4ANQB5gQxB+IF/AKs/8H7g/lo9y/2a/aM+J/69Pr+97v14vQ49aj3xfkZ/j4A0f9mAKkBZwPOBaIFTQIMAU4DWQUBBrwFqQVNBFsCvQJnAykEtwT3BOUDGAM9AycDWwJTAsgC5wGHAHT+TP2Z/kwBxwAJ/uv6u/rX/LX8Z/x5+z/6wPy+ADkDtgPJAscCjAHQAAkAuACxAar/mPuN+Nv32/ac80bx1fNx9xP8lf4c/a/83QDNBB0HOwpIDZwPuxCjD2cLtAeVBbwE4QVwCMwJgAqOCXsGlQHQ+9j3Y/Qr7wLm490I2z3fMOpz+RMKKxk9KDk1OT2KPMs2Fy8pISUQAf0o6sncj9KWyGDCEMBAwA/BHr8xvZ+7PLw5wt3OveEt9b4GTBkPLRBCZlMiXztmTWfyZF5gGVwTV/NPMUjQPdMuWRtwAv7kfMZWqaCQaIEBgGSHKJQ+pZG1XcXd0gbbm+Fv54nwdP0xBukPGBjVG9QhcCdsKwEw5DS9Oc89rUChQpRDZkNuQ7ZAUjvyN2AzNSyTI0waTREsB/D8YfHP5kbgctzq2YrUMM8qzCDJq8c1yVfIJ8b9xELFQcklz2nSwdS72vXgLucR8Lv4Tf/qBIIIPw1xEr8W9Ri5GlofRiIEI0MkFiIOIOoiryT/Ipsgmh6fHPgbxRsjGAsUrRGgD2kPnAt2B0gEPwCB/AD3HPMJ80H0wfNe8qTuKuyy7UHu0+167Sft6O8X9RL3b/dk9/D2aviK+Tv7Zf0D/7ABcwMpAo0AqQC3AVoC8AFyAZEBSQKLAwUEAgIk/1D+gf7k/OP9HgFcAjkC+gHSA70ENwQIA5QA1/8IAR0DQQN2AiIC2QAk/7/8kfu6+iH7Fvwk+1T6jPtZ/JL8VP6N/ez7vPzX/h4BPQES/gf94AC0BPsE6ALwAisFCQbNAy7/2f2b//ABNAS0BGkFygTfA4gEVQYXBrYEugS0BaoGhASMAmUAVv5pAGb/jf5q/2f9ov7FAJEC6wIlBL8EGQKn/7H/KwJVAsYAY/0J/W787vpa+wH43PZG96L3jfcv9sT2F/fO+B758fQK86/03/aA+Y77MftH/GAAPgPOBWcH6gPrANwDzQdXC7kNyg3UCzIHGATTAgQDgwRYA+EF2AgECG4I2wWdA1cDrwS/BZYE8gF//ur+IP+Y/+4AD//L/Yv8S/tF/b38wPoJ+w/7R/v1+136kvfk9Qf2E/i+/JMAF/10+L31rfVV+yUA0P+8/o8A1wLBAs8CwwAhAGwCOQS8BrEG8QRMAcIAMAJ4A7QFDgXHBYwHhQe4Bu8FLgPP/70A4wJ5BV4IPAdJAoP97P3n/tb/zgDI/l388Pta/eD+6/5F+4/5ivjJ+KD7wvt9+rD4Vvcy+VL63/hr+pD6+/lc/If+AP+EAIICCgLjAVcDwwWRCFcH4QJjAVoBjgNpBcwF3wUhBbsCSf7O/fsAUgI/BHwGoQXHBP4E8gLx/qv9PP7m/rIA5wJCBlUINQRj/1P8Yfuq/En+9f7w/ez9Hf3+/Fn9fvxm/K76dPkZ++P7vftW/RX8fvgH91v3h/pz/Yj+3P1i/TH9Y/yj/swCsQGU/0UBywLkBroITQcKB04FDQVjBHICEQRrBlsHMggKBekCeQQbAiYApgDrAYMBr/++/rwARgJG/y/+4fxm/YL/9P87ABgAVQB5/vv8RP+fAEj/HQFOANT/JP96+xD8gv3g/rX9QvyD/P78xPoZ+M35+fyl/F77e/pl+oT94f3D/Rr95f2TAZ8Abv/rAasCygPlBUkG/ARuBE8EaAMPBXwEtwNkBB4EcQQxBKADfgAbADQB0QEMBBIEWwR9A7oBa/5r+4L8VgA8AVkBmAAP/qr9J//C/WP7g/wf/Er8LvwX//T+bvu3+ev5jftZ/av/DgCRAJ3/G/7A+wz90v4p/+P/Hf5d/4oAhQH8AcsApwETAJn+JACsAIMBiALoAacBLgH6ALYBigHMAbgA9v7uAVsF5QSyAzACVwJ0BOsEcQNFAegBPgPfAUQCVwF4/8n/uP69/az9xP7o/Qb+5f3o+w7+jgBPAd0ARf9S/KD7Av1D/TT/UAAx/73/XwBu/z/9wf2g/0P/8/9mAEcArv8d/+7+rP3M/Br8Jfzg/H/9AQCFANj/DwBP/nb90P4rAdwBAQCVAMoDmwWeBHUBWgDFALQBxQIuAwEEOQT7AqsACQFQAeUBWwFz/4IARQGSAbwATQGXAVABbAAS/0L/6wDF/+v84v1VAAcE4ARMAwUAT/zz+kn77Poh/VIBbP+S/oD/d/7O/gb+7/rr+IH6nf1yAAkB3QCN/lP5Zvn4/Mv+Uf8//ikBuARDBmkHnAJmAHsC2wTZBb8EHgIAAL8AFgFAABkBQwL+/aD88Pu6+nr9ff/NAkwGEQQtAD3+lv3o/uv+CwDNAvQDIQK3AO3/q/4U/kD9sP4bAwkHQQccAoD9tPtg+/z8YgDEAZwA8QA9/if7a/tz/lH/ev6KAIwCsAFLADv+wv3aAcoEqwL6+2f6qvz5/88FtwTg/zr92/sH/dv+lwGcAu4BWgJpAJ/+d/7F/gr8avg9+v39XgIHBiYEKwFOAXEBqgFZAS8BGwOtBMYE2warBnsFowQHAC7/ef5d/GP74voF/qAAMQFy//f6VPeV9Yv1s/eg+sz80frx+Sf8y/zs/JD7CfzD/eoAuwIDA64B9wE8A2gDKQapCAEMNgyCCigHAARkBMwG2AWqB04KNgmKCCoHqwR2Aa4BvQJvBRYEqgDS/Yv7Afwx/In6YfrW+m73jvQx8hbyt/Js9Ln4vvnX+rX5x/bI95j6TP8K/oL6bPgI+nz+CADwAl0CXQFLAf/+/P2qAHsFlAlTCC0G9AePCo0KKAcrBEcC3wSPCAIK+waRAgb/R/+tAQcDrQNEAqIDRAFr/lL/5/7cAIYFzAfKAxAA8vzw+vb7svqR+Oz4G/z0/PT9Gv4o/Mn4xvT59ZP7K//s/QP6P/nL+yL+if4W/Vf+9ACXASoCNALsAUIDrQXgCFAN8xGHExkY9xl/F8MTNQ7UCcQEhwBl/cD50vJm6p3h8dyv2TbWm9P01RTenOGg5EnnQOv68MH4AAG5B54QRhfQG88dTiNmJiAoryxVLRkvCjDHLCEmUyN+IFUbWhWDDv0LUglNAwX6B+5W4y7e39yA23LZltWV0+jVu9XM0nTSZ9gW34LkOeg556zqzPLO+soAmQTvBFEIjQ52FDMa8BufHO8b6hz0HuQgxCAqH+UZWBU8EgsR1hFqDTAIKQMZ/9b6kfjz94P2M/P575PuIvGM9Ir0RfNa9D7zr/Fn9eb3yPrJ+6v+CQAyA24GxgOyBK0D5QMHBQgImwtACwIK3wh/Bk8CxgLvAQEBuAGIAOP/5v3c/tT/OPx8+pj4A/mT+Pj18/UG9KP1NvgU+r/64/u3+wH8q/tK+lz+4AHHBXwF4gNLAwMGRgbpBRoFHgMcBUoEzgNdAzEFDwbYBPkAgf4o/6f+bP1Y/Sz9ZvwV+iH80gA0Ab3/V/vi+uH9dQCVAOsCHgRhAzEEMgTZAmgBRQHvAaYFvASrAUn/ugAyAaoA2AL7AKkDCgP0AWQAzPvS+mz9zQISA9YAF/6l/Bn8gP2C/Kb7V//DAsEDDQJrANH/gwD4/zn/s/5t/an92/8L/1L8Bftt++X9I//Q+zr8Hvsq+K32PvXc+K/+2v9R/KX8vPpo/Cz/UQGYAn8DTwSVBt0K+AsbCdEFHgn/B7QJbgkuBQcH6gipBmwHBwXsArb/d/ro/GD+nAHlAWr/Xvoo+xD8I/3l+s73Ivn2+nYChv9X/Pj7VfpX+8v8NPwJ/Af+RQCAAOcCMwJZ/JL7Jv3r/nn/dgINAhcBTf9c/rL+O/7x/tX8xP7pAS8D+gGYAoIDHwMEAvf+OP5AAXUFngaCBJwGwwucCbMINwQ7AIsDXwNnA0wCrgOEBHUEdgPpARUBA/sz9Un1YfXo8/vzDPEd8E7uGvBu60znUeq66/jvePIC9pvx2fTJ+TH+wwdYCTMLcA/4EgAVDhelGGMcdSKCJ1kmpiUcIxUflxkOGB8ZYBcPFPUOyAsTB9f/8vLY7sPqyeaN5Pfk/eOp3TjZkdRJ2MbZU9x53h3gCuNc5jLrl/G29PD0H/Y1+Rz+ogSeDKkN5g9sDLYPYhXEGWYc+hcCEVwPihLdFtgXLxhpE0cNgw58CAIMaAiUB9gDWgJpAmUBSQI//Fb82fil+E/4jvuo+5n61vhe9gf67vhj+Nz1ffmU+1/9hP9k+bT76vysABQBRQLbArz/2wCZAZb+egKyBkoCIwT8BBgD2AIOASH80Pxq/i//twDk/2X+a/zE+H/4u/fD+xH8IPcH9XT3MfZT94D7t/d2+k3+KPsC+p3+sv3UA3cEVQIq/48HpwtBCcIM8AHGA3IDxwWOBwYOUg4SCZUKHgXwBiwIyQkwBqEDkgNr/58BSQB7AGT+QfiX9+f1yvrA+cv68Pkr9Z/yHPgM/kv8svpg9j34fvyM/iz8k/pb/rz+K/+7/hkDzwjLBt0InwE/Bt0I1wxODvkMqg4vCMcKGANJCCwMagZFAXD+bQDZ/r/9SPon9yP6evgf9LX0RPQa85b0ovQS9VD30vUn8zDxk/a89cj5wPzp/2oAf/7j/ij/+QN0BZgDnQSvCc0JZA/kCbwHogbZCDQJXwhkDKAGUAgvBx0JiwjBAuz/AQJgBbEE4QNJ/wj+Gv0r/cr7af7H/B78df4t+7X+gflT+/f3OfYg+t72Pf5j+xn62vmI9lr47vZE+o/5e/54/y/9xACg/6UCgwA1AtIGpgWqCF4GoAZvBUcEuwdfCDQKbgL0BXsChQAiAiEAtgNnAXIDn/5L/4P9O/p0+mT29fge+jr+4QIkAogCSQDa/7390/wK/Br/XQWcBn8DPAUoBPcEngAq/nABRP1mAoj7o/4iAD/+GPwd+0z+Jvvl+OL0TPXP82T6LfsF/cz8Sf5c/sn8zf1V/L3/F/8NAlUFLgY8C2QHrgX1B1IG6QnKAGoE+AU3CmgNtgn1CVsG0QXs/8//ogLaA24DSQiZBPUDdgF7/rf5wffV+nX6dP0I/ND71fU/9jL29vcZ+Lr2jvT997f7VvnF+7v73fuZ/E/7VPfj+c7+ewHtAF3/mPwXAxkEKAFEA5YBBAV7CHsK0ApvCHwHHQWgAvUBlATOCLINYg6NBqkFCAOi/s3/JgANArEDRAMb//D6dfvs+Zr3OPlU+hT6NPkR+g76+fqA+yb7JP2P/Rz/FP0o/mb+K/6a/oL9Xf/lALQFUwiCCDUFqABl/8z+b/6XAn0FDwQxAgwBWAAcAF39SPhI+Vz8Y/5Q/+f+zv/a/cL/xP0Y+aT9YwDKBHkFGQURA3IBmwHi/tMAJAN4BY0H1AW6BZwFVwMiAk8AcgDpAlMI2g0BEPkKvwHL+yf6ofgJ+9n7o/yA/YP2S/Fa7YfrVud85eDp4e0O9Ir3Fvhy+Av5OPv5+2UABwdPC3MNGA4RDSUM6RGnFH4SYBGPES8S8hNFFNYSkREMEPYPeQvHCIwH7QjdC8EHWQLd/cX32vMs8Jnqa+4D9iz5evRm70XrVeRZ5EPl3+Zo6AnpBOmc6Ufvou4W7aruffEk+cMBVwhvCogKSAs4DNUOqhH1EsoVAxegGRIacBe0FW8SYRKVFdAYSBisFOsRhxF2DxoMIwkaBXYAIv0jAJsGXQaV+5Xy6use5/7mQORE4kvfRt4134LfmOHM4r7knOfr62zy4PqEAZcDwAQ5CkYNTg9AEyEWShlnGIoXRBOMEe0Qeg32Cz4LuQ0iDzkNHAliB4sGPwKX/0kCGwO5/4H4nPsfBxEJ2f4b9uXwc+mp6ijtLe216O/jbeFH3oHh1ucd7in3AP3tACwDZwMBBc8HiQ5UEpsYBR3GHIkbhRhlFSkRXg/8C6oLGRAOEv0P/gu+BsoDpQX0BnECdP9H/rr9avvP97MAkggzAxH3CPFv6kznKOyN7SzqS+Ou4O7fDt/R4DLju+kI95X8Gf1J+un47/on/zoEeQj/EUsV3RiZGigXvBE9DRUMfwvLD6MRfRTwFmIUZxC8C2IOjQ9BDdYK4AXe/Fv+YgwqFicRhAax/4Hxquw77IjqPOcs5GjlJOR/5HflheXp5XXnMevP8WP4rfyO/fkBCwX2Cr4Q+A6ME/MW7RS2DrIIIQfSBQgI8AgWClYMtArlCDULEAxsCpYGlwQXA5D+IwcWE+kTSguEClQC7vFg6zPlN+Ik4cTkd+eB5njk3OK659/tsukq50jpm+/X+TkCTQl0D5gVmBU0FTcVQRWKF48Y8hipGm4d2xslFkQUZBEoERITDA/DCeYFdQNhACv6PPriAocJXgQg/uX2hebg3x3hPOVw50DnW+Ps3UPe/OGo6VXzIvcX9Z3zF/Tg+Er/uQhbDSoSVRZCF2oWUBLaEHcLqQUIA9kHuw1tEWYPXQpfB+8JMgnpB7IGEgMHA1f9BwSTEvIXHxEcCpb7L+xm6eDrTO0O78jvIu1S6kPs8+978Qzy8uv+7SHxAPfc++j/cAekDXkSyRGcEoIUXBEDEE4PAA38DxoPWg+LDwAQaxGVD8sMJQi1ANb7JvV89nkGAhFKDzwGLPvD6sLhUeBz4/nn7OcG5HDhyN+93lDkE+tj7cbw7PND8dz2wf+KBL4JFBNkGbwZ/ByYHK8YoRdAFU8TEBR0E08T+RELE4QQowucCcMFdgOx/NMDTBNmE/IH+gJM/ETzU/RO8Y/tbOkE5FrfWOJD5nHoWOlH6mvqEOwu8T/zPfr8/8YEHAsZEQIUHxa+GIIYghhSFxsVqBPIEhsS6xIMER4MXATE/zz+B/yP9pLx0P2XCPwAyPSW7j3lB+E85NbixOP36PLkeeKP523nv+vH82b6HwA7BhoFRAiHEoUYRx1VJIolFSQoJkkisx05HAIa+xPyED0M1wcFBc7+aPlY+Qr2pfDl7Z7lFOof+Q36ZfTg9TLsIOKy5xXsw+zC9Kb04OpX7gDvZewI8h321vXJ/J8B8f7uBSALOgjyDWMVbxX5GukfIh5pHu0cTRg/F7oY4xWOFRAVbA/8DKAIGAIe+lH0VvSL9u/vrOiX8f3w5OZl5sHj6N1+4hziAtwF4TTnpeZn6kfvpOzw8fj2YvZo/zEK0A/UGWseqhm/GzkiCiNnJuom9yA9InIioh5MIAoeQROODfwITAGB/QAANgFs+yDweO178RDr2uRl4n3deNnb28PbXtrL3sPecd+y50jreO378DjxGPRk/i8KjBAjF7sYDxi2HFIgVB7/Hhognh6SH6kePhumF+IUNhCgDPsIbAOM/yoDogYoAB71x/Oe93PyVe/46vfgw9+b33rXX9na4Lfid+fo7FTsae6J9Jb1WfoHBGMLkRPWGRMb3x6XJJ8kayI9H3oZCxauFjgXUxjBGpYWWw+LCNL9G/nY9H7zNvvS/sL2KvJG8/bmD+DP4gHgx+Ae6OXjUN/L4/3hFuLB6artZPG7+bv7+f+pCAEOlxNnGtocAR69I40j1CPGI/EdbhxjHD0bvxucG6AUfQlZAob+cf2k+CLwzPJP99TyffAx8QXndODU4qrfet7W44via+BT5UPj8eJr51zpK+4/+Bb9BgKVCycOOxATGKEckCAoJ/QlICR0JIcimCAdIRofhxwGG54UMA+YCngECABU+x718fjU/vr2XfCu8vfpwN9l4RzeGNsV4Sffd9jT2KrWoNaX3gDkM+gL8w71LfLY+vEBfgZ0EvkZvh3gJMEnJSgCKTonViVkKOIoRClPKj8mmR4xGbgU7xDPC9gCsAShCTsBPvW88rvolN1H4YHfh9gY2knWSs5fz97MtMwg1m/ZE9wn5o7nBukz9XX77ACMCx0TnhkPIbciRCM3JwwmUCfcLUUu8SxYK64iLhyrHFQcnhe6E8wLNgeFDHgH6vv++Orzlumg5wPn6OBw4RDiZdic1p7Ttc1E07jZ4txW5BroneS36qbz1folBOQOhhMGGV8fwh5nHwYcmBpaIvkoGymuJucggBgbFKgRDwwECg4FQgF6CIYJVv7S9x36NPLd6pLqdeOy4BXme+NQ32TfnNiZ16rfN+HO4lnpyOo68IP87gGrCCkUDBn8GkgejB3THwMnpCfOJ4ApSSdQJpckTxxDFhUUtw0LCKUEPgAzAY0F2f0N8DbuZ+2140ji5uDM18TbHOJD3FLZN9eP0B/WweA440zpJu+Y7mj1NwGIB4IPMhdyGF8fISe2JjYpbSq1JnolSyKuHPcciBz9Fs8TyhBSCXIDFP/k95b55v/Z+fDxcvT28EjnB+bn4xXeJuP75Vbh6+Lr3x/bS9/o46zmRPB09rD3Z/51A5EFChAZGR8bZiCcIowhwiTCI1Idgh8BIj8f3h1MFtYNhwpRBvwCQAKD/xT4hfjb+4n3kPGm7fXrGOl6547pk+oy66nrROWU4v3kkeTs5jnsQfAw9SX3iPXp+mUBEwa+DqAWthhbGF8ZmhgDGmwbjxlkGR4Z5xgjF1ATIQ0VCvYHgwPX/jP6ivf++Qr/yPtR8aLr5ezs60/uz/La76DoDudK5gXmtel/5oPjeuqT8pL4U/8D/4P+HwaEC6INihUAG9MdQCQoImEcGBz3Gi8aGhtOFpQP7QzrB60DMQMj//T8L/2I+qL0gvKC9cX2s/GZ7cbt9umL7MDzVvMA7yDvhuw/513oruf05xfuPPP4+B4B5gN8BUcKSAhMBWoJhg7kFB4fdCRqJE0jVhpGEMoNwgxKDLwPNBDvDAEJgQB++Hv0YPIa7U7rvvE29tXzXfL29Nzw3uvy7snuHO7q8zn0+PCL8aLxuvEn9iz3mvh4/Eb8If6dAz0GLAdkC48OuBFUGBcaDxcWGN8WJxI/D8QNEw5DEhYTog4mDX0KEQUSADr7Vfjm+SH+cgLLAaz4QPOD8l/tqe2v8uXwWvBo8TntkO1/7dXmYeYQ68btP/AK893z5fo7BWcIwQWcBvcLzA9TGeMdcRy8GhAYOxXBFR0U+Q4SDUkIZwX4BEAHgQbR/pX1PvKa8gn1sv2IAXv5ivXZ91v1k/Sb97j0r/FU9X/yXO007/Hufu2k8qHztvNd+fL85fxx/ir+Vv+lB0sPoRFGFIMWSxd0GIYTag4HDSYOPw7eDwQQbA6iCwgG0P6R+mX8p/8MASP6SvUp+wUASv3X/sL/7/gU9674jfQ+9YD56vF57ALvfuwa7BLvauth66bycvIz83j6KPx9/5oGhQiIC7USFhQKFvAY7xWCFfAWyxPlDqUL8gYcBzQO1gyICF8Fqfxc+NP64fjb9kz8eQGqA2MDjQEH+330//Rc95j48PhO+pT5RPSq7Nbk1uP35qTqBPDj8lLxivTV+Xb65f5gA4EHtg/xFrYWsxYMF2kTyhG7EUURIRIOE4MQLgwtB8ICZQHFAcYBTwLaAF3/Pv5Y/TcCtAYuAW7+K/8O+D72Pv4n/E34JfvD8xfuOu2h5hjiR+Wu54jrR/Kg87PxzPOh9db53wOnCPcJkg2FETsVeBhLFlUTMRPQEX0RvxK0EEwObwshCAsFDAVDBUED2AVFA0/9kPwa/j4B0gVxApr+5f//94XwmPNp9HDxOPNZ7rLl1eiL6R7kSOat5KPjrOqk72f0lPyEAt4DewnNC0UMjxTdGHsa6R6mHJYXfhqFHUob+hhsEioMGgtHCskHIgYtA43+Of0e/Pv46PdD9Sfu2O829hf3Q/dp+Uj2f/CT8m303/E58vjxse9V8tPyOOx/69HtrO2B9MP6nvoK/Q4BmwVVDBgQoA9nEfwURhbNGdwbXBowGBEWJRUfFMwRCQ+WC98HuQOXAusDHwA/+3/2QfVL96L44PWl71frv/Fl+lPys+1X81Hw4/FB/YD0Pupb7X3rg/Lo+wH06ugn5kPloe7f/FP+AgBsBYgH7g16FCAVgxTkF0wfdydgKtMlSSDUG1QXDxLVDu8LrQqrC5sHyv9j+qL2LPIv8pv0CfQX9jH3PfMp8cnqouwD+sf9qvdc+g/6G/R/+pT2KuzL7H7vivAh+mz7ZvYG9VfvaOoR7fnzhvmQAnQHKQgqCoUMqQgeBwwIVAd7DLAU0BRvElcOIQY9BVgF+gM3Ca8M1AjlCAgJHgjKCjcLqwZPBvAJ+AhWDPgJCgYe/wH80wnzEVAJrfvH8EPlmexU7nzlT+Dp30ffruYV7f7sWu/x7pHxw/drA3UELQNAAkkGbBCUHCUgehhBEkQQxA9TECMPJgoFCs4IsAcxBcUAGv4u/HH5SfXR9Fj1PPm0/BD7pvU782vyuvVI+5oBkgKw/pz2Nuog+J4MEBA0BZn7Yeu86u32X/fu+DL3gfDh7f32Mf/KCJcOyQzdBtkK0wuVDJcQQQ7qDEwP2BXVGNkbzReYEBQM5gg5A0f/YwFNAMn+Cf/Y/ZMA8wOvArT/1Pxh+Sb4E/gB9qv0UPcV/aj7Rvc780Lxg/FX8jrsLu68/z4L1QUB+p/teOAo6X7xEfRI+bX5U/Mr9iv/wALZB+8ER/72/hkHqAcYCLkHdgauCTAUFhqkGGwVSQ3lCC0GiwfNBykM9w6wCkQIkAIF/Cf+HwM8BEsD3f3w98D4T/k49zD35fbd+LD8t//IAP//Lvzi+eTzwvdGC/cWkRJ7B1355uq07T/0V/lP/Cj5OPIw8MH1y/rT/u37qvhz+c36W/49AIH+Wv8vAosHOAsgD0gRRg+nC8MFXQMOA0ADJQM0A9wDAQaiCc0JVQRD//v9jv4f/zP+Yfzo/ZUBcAONA3EC5gBvAO78Kfwu+8v7/PsR+twC+AtWCtQARPmH7fnp5utR7nDxafN19br1iPfg92f7i/4XAGz9MfwW+6r8hAMYCoMOZhPsF2kXRhikFvEO0AfBAvMAPgeCDSwOFguoBRP+a/sP+3j5XPkX+a34X/aY9bn0L/WF9pH42vvE/moALwCS/jX9dfzz/cv9lfoCAX0NSxIiC3UDOfmL8Pjxt/ZB/WgAv/68+YD3s/hY/QoDoAWOAw/9A/kU+aD9kwIlBuQJdA1ODp4MBwoEBYz/Xft8+5T+7AJrBucDEv/1+1H6d/sc/un/X//y+8/6KPy1/y8DZQLQAD4AmQLJBp4KDQnmBRwEewGAADgAlv4k/KIBywwrDuMFdf3b8WHrbu4m9KP4Cv1s/Sv46PX49Y32eveW+hf6d/ep+AP7TP8zA5gDaQRxBYUFJgjbCjYJ0QWPBNADggOBBTwHTAmbCuMISAXqAnME4gQbBQoGcwfXCdAH6wHv/sD+UwBfA+MDlAL/AaEB1v4P+6X4xPlJ+sn3tfVN+Jj/tQRnAlj7lPPG6eDkruhJ7/b0FPiO9Gbw6fLF+AD+rv/M/bz7ovt5/0UHog6aEZcQBQ/4DVkPcRFuEiUTchHdDK8IHgjACxcNvAtjBQL89fnf/AoCGQSsA5gBh//V/cr51vSl82L2nvZe97b4BfwXADz9uPb58pLxCvTB9fz1sPcw9wf5VADUCGwK/AXHAan8rvh5+XP88ABXBpMGCgWzBM0EBwd1B6YDXABcABIBoANUBgIFMANoAlcDagZXCHcIHwVy//v7Tvts/Bv+kP2Y/O78P/6SAfkE/QW1A6L+IvoU+O36If/TAiMEGwAT/h7+mv0r/gz9IPqv+Y38xgC+Ax4EGwL4ANP98fkz+Df8XwhrENUMMgUU/pr5wvmy+cj4kvlA++D65Pkc+T37yP8yAt8CTv8e+Tv1ufN6+N8AewebCzkO7QwqC9UK1wj7BekCAQPYAgcGMgy8CycH1wEe/TL/VAShA88BigBC+rb1b/az+Jb9sAERAY3+NfyY+sr6w/zQ/Nn6xvos+5P7Wvuf+Qz5LPp6+Cn3Cvp3+8j+ov8T/On37fPi9Hj5Av94Aj0DygR6CSQLUw3PD+EQrRLBE1kU6xUgGAMVORMaE+IUDhbsEU8LrgToAr7/8fmr83furevj6dnlm+BR3nze3N/n3y/czdY01kvYAdtA2xXdVeHe5TnsrPSk/S4HQREmFlEaOyGhKc8vOjWfOSE9LkDiQWNA3D0wO/40Qy6pJ+Ai2h1HFjQJ1/me7ZDku9+G3bfaidZe0KjIWMMIw4TFVsd0yVvKzszM0UrXGd8W6Brw7/Xm+n8AKAYHCSwK7gtgEL0UAReDGrwdHyFzIUMbeRa4FYUWtxZJFpITPQ9GC8QGKgZyCGkIVQSWAHj9/vrR/Fb+N/39+Tz3sfgV+iL8Xf+qAB8ATP+i/un9qP1j/dP9L/4x/5sDSQotDiQLKALC98f0hfnw/3wFjQdFBzYESQO4Aoz/Wv4V/uf8Kv0+/x4BmgJiAbX+4f52/yL/3/0n/Q/+t/3I/GD7Ovqf95314/Uu+MP5p/hq9F7wNfFK8hTyLvOu9Hv20PlD+mX7d/5t/40BzgOBBasH0gl8CjULdQ2MDcUMWwucCn0JxgcGCGQJQgqWB+oCSgCTAHz/SP28+pf6B/yR/MT7hfkN+Qj8AQKaBVEGOQIV/8oBUgTaBIYEtQXgBqcKOBDREdILhgKe+5j56/1iA7kG1gTOAWf+o/oP9zTyLe/R7o3yI/mC/ov/9vzu+cT2EPYc+U77cP5LAdEEbghiCC4D5/vl+CP8AwKWBgEGqv9H/bD9kv8kAbwB2P9N/c/7DPsP+/P5iPm3+ZL8c/1f/az7WvZw9Mb3x/pL+zf93gHoBtQKygohCS0IPgnTC08NtRHeFYoV+hImD2wKrAriELMRxAsHByMD+wMTBd4Ca/9N++H7Ivtx9cDuTess6ezp7+zO7V/um++E8KDvnPCG8M/wsPMP85H1Ifq++zj++/2C/Cb+lwGDBa4F\" type=\"audio/wav\" />\n",
       "                    Your browser does not support the audio element.\n",
       "                </audio>\n",
       "              "
      ],
      "text/plain": [
       "<IPython.lib.display.Audio object>"
      ]
     },
     "execution_count": 37,
     "metadata": {},
     "output_type": "execute_result"
    }
   ],
   "source": [
    "samples, sample_rate = librosa.load(filename, sr = 16000)\n",
    "samples = librosa.resample(samples, sample_rate, 8000)\n",
    "ipd.Audio(samples,rate=8000) "
   ]
  },
  {
   "cell_type": "code",
   "execution_count": 38,
   "metadata": {},
   "outputs": [
    {
     "data": {
      "text/plain": [
       "'sunno'"
      ]
     },
     "execution_count": 38,
     "metadata": {},
     "output_type": "execute_result"
    }
   ],
   "source": [
    "predict(samples)"
   ]
  },
  {
   "cell_type": "code",
   "execution_count": 20,
   "metadata": {},
   "outputs": [
    {
     "name": "stdout",
     "output_type": "stream",
     "text": [
      "Evaluate on test data\n",
      "WARNING:tensorflow:AutoGraph could not transform <function Model.make_test_function.<locals>.test_function at 0x000000CB14C7FDC8> and will run it as-is.\n",
      "Please report this to the TensorFlow team. When filing the bug, set the verbosity to 10 (on Linux, `export AUTOGRAPH_VERBOSITY=10`) and attach the full output.\n",
      "Cause: 'arguments' object has no attribute 'posonlyargs'\n",
      "To silence this warning, decorate the function with @tf.autograph.experimental.do_not_convert\n",
      "WARNING: AutoGraph could not transform <function Model.make_test_function.<locals>.test_function at 0x000000CB14C7FDC8> and will run it as-is.\n",
      "Please report this to the TensorFlow team. When filing the bug, set the verbosity to 10 (on Linux, `export AUTOGRAPH_VERBOSITY=10`) and attach the full output.\n",
      "Cause: 'arguments' object has no attribute 'posonlyargs'\n",
      "To silence this warning, decorate the function with @tf.autograph.experimental.do_not_convert\n",
      "339/339 [==============================] - 2s 4ms/step - loss: 0.0566 - accuracy: 0.9838\n",
      "test loss, test acc: [0.056606050580739975, 0.9837698340415955]\n"
     ]
    }
   ],
   "source": [
    "# Evaluate the model on the test data using `evaluate`\n",
    "print(\"Evaluate on test data\")\n",
    "results = model.evaluate(x_val, y_val, batch_size=8)  #saved_model\n",
    "print(\"test loss, test acc:\", results)"
   ]
  },
  {
   "cell_type": "code",
   "execution_count": 21,
   "metadata": {},
   "outputs": [
    {
     "data": {
      "text/plain": [
       "dict_keys(['loss', 'accuracy', 'val_loss', 'val_accuracy'])"
      ]
     },
     "execution_count": 21,
     "metadata": {},
     "output_type": "execute_result"
    }
   ],
   "source": [
    "history.history.keys()"
   ]
  },
  {
   "cell_type": "code",
   "execution_count": 22,
   "metadata": {},
   "outputs": [
    {
     "data": {
      "image/png": "[encoded data removed]",
      "text/plain": [
       "<Figure size 432x288 with 1 Axes>"
      ]
     },
     "metadata": {
      "needs_background": "light"
     },
     "output_type": "display_data"
    }
   ],
   "source": [
    "from matplotlib import pyplot\n",
    "pyplot.plot(history.history['loss'], label='train')\n",
    "pyplot.plot(history.history['val_loss'], label='test')\n",
    "pyplot.legend()\n",
    "pyplot.show()"
   ]
  },
  {
   "cell_type": "code",
   "execution_count": 47,
   "metadata": {},
   "outputs": [
    {
     "data": {
      "image/png": "[encoded data removed]",
      "text/plain": [
       "<Figure size 432x288 with 1 Axes>"
      ]
     },
     "metadata": {
      "needs_background": "light"
     },
     "output_type": "display_data"
    }
   ],
   "source": [
    "plt.plot(history.history['accuracy'])\n",
    "plt.plot(history.history['val_accuracy'])\n",
    "plt.title('model accuracy')\n",
    "plt.ylabel('accuracy')\n",
    "plt.xlabel('epoch')\n",
    "plt.legend(['train', 'test'], loc='upper left')\n",
    "plt.show()"
   ]
  },
  {
   "cell_type": "code",
   "execution_count": 24,
   "metadata": {},
   "outputs": [
    {
     "name": "stdout",
     "output_type": "stream",
     "text": [
      "WARNING:tensorflow:AutoGraph could not transform <function Model.make_predict_function.<locals>.predict_function at 0x000000CB15056678> and will run it as-is.\n",
      "Please report this to the TensorFlow team. When filing the bug, set the verbosity to 10 (on Linux, `export AUTOGRAPH_VERBOSITY=10`) and attach the full output.\n",
      "Cause: 'arguments' object has no attribute 'posonlyargs'\n",
      "To silence this warning, decorate the function with @tf.autograph.experimental.do_not_convert\n",
      "WARNING: AutoGraph could not transform <function Model.make_predict_function.<locals>.predict_function at 0x000000CB15056678> and will run it as-is.\n",
      "Please report this to the TensorFlow team. When filing the bug, set the verbosity to 10 (on Linux, `export AUTOGRAPH_VERBOSITY=10`) and attach the full output.\n",
      "Cause: 'arguments' object has no attribute 'posonlyargs'\n",
      "To silence this warning, decorate the function with @tf.autograph.experimental.do_not_convert\n"
     ]
    }
   ],
   "source": [
    "import tensorflow as tf\n",
    "y_predict=model.predict(x_val)\n",
    "conf_mat=tf.math.confusion_matrix(np.argmax(y_val,axis=1) , np.argmax(y_predict,axis=1))"
   ]
  },
  {
   "cell_type": "code",
   "execution_count": 25,
   "metadata": {},
   "outputs": [
    {
     "data": {
      "image/png": "[encoded data removed]",
      "text/plain": [
       "<Figure size 936x504 with 2 Axes>"
      ]
     },
     "metadata": {
      "needs_background": "light"
     },
     "output_type": "display_data"
    }
   ],
   "source": [
    "import seaborn as sn\n",
    "import pandas as pd\n",
    "df_cm = pd.DataFrame(np.array(conf_mat), index = [i for i in classes],\n",
    "                  columns = [i for i in classes])\n",
    "plt.figure(figsize = (13,7))\n",
    "ax = sn.heatmap(df_cm, annot=True)\n",
    "plt.title(\"Confusion Matrix\", fontsize=20)\n",
    "plt.ylabel(\"True Class\"     , fontsize=20)\n",
    "plt.xlabel(\"Predicted Class\", fontsize=20)\n",
    "plt.show()"
   ]
  },
  {
   "cell_type": "code",
   "execution_count": null,
   "metadata": {},
   "outputs": [],
   "source": []
  }
 ],
 "metadata": {
  "kernelspec": {
   "display_name": "Python 3",
   "language": "python",
   "name": "python3"
  },
  "language_info": {
   "codemirror_mode": {
    "name": "ipython",
    "version": 3
   },
   "file_extension": ".py",
   "mimetype": "text/x-python",
   "name": "python",
   "nbconvert_exporter": "python",
   "pygments_lexer": "ipython3",
   "version": "3.9.12"
  }
 },
 "nbformat": 4,
 "nbformat_minor": 2
}
